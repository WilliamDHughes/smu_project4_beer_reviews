{
 "cells": [
  {
   "cell_type": "code",
   "execution_count": 1,
   "id": "1ddfd2af",
   "metadata": {},
   "outputs": [],
   "source": [
    "import pandas as pd\n",
    "import numpy as np\n",
    "import matplotlib.pyplot as plt\n",
    "from sklearn.neighbors import NearestNeighbors"
   ]
  },
  {
   "cell_type": "code",
   "execution_count": 2,
   "id": "22c4c1df",
   "metadata": {},
   "outputs": [],
   "source": [
    "df = pd.read_csv(\"Resources/Clean/beer_with_aggs.csv\")"
   ]
  },
  {
   "cell_type": "code",
   "execution_count": 3,
   "id": "01c715bb",
   "metadata": {},
   "outputs": [
    {
     "data": {
      "text/html": [
       "<div>\n",
       "<style scoped>\n",
       "    .dataframe tbody tr th:only-of-type {\n",
       "        vertical-align: middle;\n",
       "    }\n",
       "\n",
       "    .dataframe tbody tr th {\n",
       "        vertical-align: top;\n",
       "    }\n",
       "\n",
       "    .dataframe thead th {\n",
       "        text-align: right;\n",
       "    }\n",
       "</style>\n",
       "<table border=\"1\" class=\"dataframe\">\n",
       "  <thead>\n",
       "    <tr style=\"text-align: right;\">\n",
       "      <th></th>\n",
       "      <th>Unnamed: 0</th>\n",
       "      <th>beer_id</th>\n",
       "      <th>brewery_id</th>\n",
       "      <th>beer_name</th>\n",
       "      <th>style</th>\n",
       "      <th>types</th>\n",
       "      <th>state</th>\n",
       "      <th>country</th>\n",
       "      <th>city</th>\n",
       "      <th>availability</th>\n",
       "      <th>abv</th>\n",
       "      <th>look</th>\n",
       "      <th>smell</th>\n",
       "      <th>taste</th>\n",
       "      <th>feel</th>\n",
       "      <th>overall</th>\n",
       "    </tr>\n",
       "  </thead>\n",
       "  <tbody>\n",
       "    <tr>\n",
       "      <th>0</th>\n",
       "      <td>0</td>\n",
       "      <td>798</td>\n",
       "      <td>289</td>\n",
       "      <td>St. Ides High Gravity Malt Liquor</td>\n",
       "      <td>American Malt Liquor</td>\n",
       "      <td>Brewery</td>\n",
       "      <td>TX</td>\n",
       "      <td>US</td>\n",
       "      <td>San Antonio</td>\n",
       "      <td>Year-round</td>\n",
       "      <td>8.2</td>\n",
       "      <td>2.720721</td>\n",
       "      <td>2.299550</td>\n",
       "      <td>2.209459</td>\n",
       "      <td>2.520270</td>\n",
       "      <td>2.308559</td>\n",
       "    </tr>\n",
       "    <tr>\n",
       "      <th>1</th>\n",
       "      <td>1</td>\n",
       "      <td>1061</td>\n",
       "      <td>383</td>\n",
       "      <td>Pilz</td>\n",
       "      <td>Bohemian Pilsener</td>\n",
       "      <td>Brewery, Bar</td>\n",
       "      <td>TX</td>\n",
       "      <td>US</td>\n",
       "      <td>Del Valle</td>\n",
       "      <td>Year-round</td>\n",
       "      <td>4.7</td>\n",
       "      <td>3.997207</td>\n",
       "      <td>3.895251</td>\n",
       "      <td>3.994413</td>\n",
       "      <td>4.033520</td>\n",
       "      <td>4.032123</td>\n",
       "    </tr>\n",
       "    <tr>\n",
       "      <th>2</th>\n",
       "      <td>2</td>\n",
       "      <td>1062</td>\n",
       "      <td>383</td>\n",
       "      <td>HefeWeizen</td>\n",
       "      <td>German Hefeweizen</td>\n",
       "      <td>Brewery, Bar</td>\n",
       "      <td>TX</td>\n",
       "      <td>US</td>\n",
       "      <td>Del Valle</td>\n",
       "      <td>Year-round</td>\n",
       "      <td>5.2</td>\n",
       "      <td>4.242775</td>\n",
       "      <td>4.272158</td>\n",
       "      <td>4.343931</td>\n",
       "      <td>4.263487</td>\n",
       "      <td>4.369942</td>\n",
       "    </tr>\n",
       "    <tr>\n",
       "      <th>3</th>\n",
       "      <td>3</td>\n",
       "      <td>1063</td>\n",
       "      <td>383</td>\n",
       "      <td>Oaktoberfest</td>\n",
       "      <td>German Märzen / Oktoberfest</td>\n",
       "      <td>Brewery, Bar</td>\n",
       "      <td>TX</td>\n",
       "      <td>US</td>\n",
       "      <td>Del Valle</td>\n",
       "      <td>Fall</td>\n",
       "      <td>5.8</td>\n",
       "      <td>3.915441</td>\n",
       "      <td>3.794118</td>\n",
       "      <td>3.886029</td>\n",
       "      <td>3.849265</td>\n",
       "      <td>3.952206</td>\n",
       "    </tr>\n",
       "    <tr>\n",
       "      <th>4</th>\n",
       "      <td>4</td>\n",
       "      <td>1064</td>\n",
       "      <td>383</td>\n",
       "      <td>Pale Ale</td>\n",
       "      <td>American Pale Ale (APA)</td>\n",
       "      <td>Brewery, Bar</td>\n",
       "      <td>TX</td>\n",
       "      <td>US</td>\n",
       "      <td>Del Valle</td>\n",
       "      <td>Rotating</td>\n",
       "      <td>5.0</td>\n",
       "      <td>3.803571</td>\n",
       "      <td>3.875000</td>\n",
       "      <td>3.910714</td>\n",
       "      <td>3.821429</td>\n",
       "      <td>3.982143</td>\n",
       "    </tr>\n",
       "  </tbody>\n",
       "</table>\n",
       "</div>"
      ],
      "text/plain": [
       "   Unnamed: 0  beer_id  brewery_id                          beer_name  \\\n",
       "0           0      798         289  St. Ides High Gravity Malt Liquor   \n",
       "1           1     1061         383                               Pilz   \n",
       "2           2     1062         383                         HefeWeizen   \n",
       "3           3     1063         383                       Oaktoberfest   \n",
       "4           4     1064         383                           Pale Ale   \n",
       "\n",
       "                         style         types state country         city  \\\n",
       "0         American Malt Liquor       Brewery    TX      US  San Antonio   \n",
       "1            Bohemian Pilsener  Brewery, Bar    TX      US    Del Valle   \n",
       "2            German Hefeweizen  Brewery, Bar    TX      US    Del Valle   \n",
       "3  German Märzen / Oktoberfest  Brewery, Bar    TX      US    Del Valle   \n",
       "4      American Pale Ale (APA)  Brewery, Bar    TX      US    Del Valle   \n",
       "\n",
       "  availability  abv      look     smell     taste      feel   overall  \n",
       "0   Year-round  8.2  2.720721  2.299550  2.209459  2.520270  2.308559  \n",
       "1   Year-round  4.7  3.997207  3.895251  3.994413  4.033520  4.032123  \n",
       "2   Year-round  5.2  4.242775  4.272158  4.343931  4.263487  4.369942  \n",
       "3         Fall  5.8  3.915441  3.794118  3.886029  3.849265  3.952206  \n",
       "4     Rotating  5.0  3.803571  3.875000  3.910714  3.821429  3.982143  "
      ]
     },
     "execution_count": 3,
     "metadata": {},
     "output_type": "execute_result"
    }
   ],
   "source": [
    "df.head()"
   ]
  },
  {
   "cell_type": "code",
   "execution_count": 4,
   "id": "28bbdc7a",
   "metadata": {},
   "outputs": [
    {
     "data": {
      "text/plain": [
       "Index(['Unnamed: 0', 'beer_id', 'brewery_id', 'beer_name', 'style', 'types',\n",
       "       'state', 'country', 'city', 'availability', 'abv', 'look', 'smell',\n",
       "       'taste', 'feel', 'overall'],\n",
       "      dtype='object')"
      ]
     },
     "execution_count": 4,
     "metadata": {},
     "output_type": "execute_result"
    }
   ],
   "source": [
    "df.columns"
   ]
  },
  {
   "cell_type": "code",
   "execution_count": 5,
   "id": "2f4180b3",
   "metadata": {},
   "outputs": [],
   "source": [
    "df = df.drop(['Unnamed: 0', 'beer_id', 'brewery_id', 'beer_name', 'types',\n",
    "       'state', 'country', 'city'], axis=1)"
   ]
  },
  {
   "cell_type": "code",
   "execution_count": 6,
   "id": "1cd831a6",
   "metadata": {},
   "outputs": [
    {
     "data": {
      "text/plain": [
       "American IPA               432\n",
       "American Pale Ale (APA)    141\n",
       "American Imperial IPA      140\n",
       "Belgian Saison             140\n",
       "American Imperial Stout     74\n",
       "                          ... \n",
       "Belgian Gueuze               1\n",
       "Finnish Sahti                1\n",
       "Russian Kvass                1\n",
       "Belgian Lambic               1\n",
       "British Barleywine           1\n",
       "Name: style, Length: 105, dtype: int64"
      ]
     },
     "execution_count": 6,
     "metadata": {},
     "output_type": "execute_result"
    }
   ],
   "source": [
    "df[\"style\"].value_counts()"
   ]
  },
  {
   "cell_type": "code",
   "execution_count": null,
   "id": "40e8a45e",
   "metadata": {},
   "outputs": [],
   "source": [
    "#df = df.drop('beer_id', axis=1)"
   ]
  },
  {
   "cell_type": "code",
   "execution_count": null,
   "id": "9b16c854",
   "metadata": {},
   "outputs": [],
   "source": [
    "#df = df.drop('brewery_id', axis=1)"
   ]
  },
  {
   "cell_type": "code",
   "execution_count": null,
   "id": "a9775c83",
   "metadata": {},
   "outputs": [],
   "source": [
    "#df = df.drop('beer_name', axis=1)"
   ]
  },
  {
   "cell_type": "code",
   "execution_count": null,
   "id": "3a4f8612",
   "metadata": {},
   "outputs": [],
   "source": [
    "#df = df.drop('types', axis=1)"
   ]
  },
  {
   "cell_type": "code",
   "execution_count": null,
   "id": "7cf9915d",
   "metadata": {},
   "outputs": [],
   "source": [
    "df.columns\n"
   ]
  },
  {
   "cell_type": "code",
   "execution_count": null,
   "id": "0c75c58b",
   "metadata": {},
   "outputs": [],
   "source": [
    "df2 = df.copy()"
   ]
  },
  {
   "cell_type": "code",
   "execution_count": null,
   "id": "7788f6eb",
   "metadata": {},
   "outputs": [],
   "source": [
    "df2.info()"
   ]
  },
  {
   "cell_type": "code",
   "execution_count": null,
   "id": "42d6c28a",
   "metadata": {},
   "outputs": [],
   "source": [
    "df2.availability.value_counts()"
   ]
  },
  {
   "cell_type": "code",
   "execution_count": null,
   "id": "a9b15a8c",
   "metadata": {},
   "outputs": [],
   "source": [
    "df2[\"style\"].value_counts()"
   ]
  },
  {
   "cell_type": "code",
   "execution_count": null,
   "id": "ae628881",
   "metadata": {},
   "outputs": [],
   "source": [
    "styles = sorted(df2[\"style\"].unique())\n",
    "\n",
    "for i in range(len(styles)):\n",
    "    style = styles[i]\n",
    "    df2.loc[df2[\"style\"] == style, \"style\"] = i\n",
    "styles"
   ]
  },
  {
   "cell_type": "code",
   "execution_count": null,
   "id": "92e0ca77",
   "metadata": {},
   "outputs": [],
   "source": [
    "df2[\"style\"] = pd.to_numeric(df2[\"style\"])"
   ]
  },
  {
   "cell_type": "code",
   "execution_count": null,
   "id": "38a69917",
   "metadata": {},
   "outputs": [],
   "source": [
    "df2.value_counts()"
   ]
  },
  {
   "cell_type": "code",
   "execution_count": null,
   "id": "c145711d",
   "metadata": {},
   "outputs": [],
   "source": [
    "df2[\"style\"].value_counts()"
   ]
  },
  {
   "cell_type": "code",
   "execution_count": null,
   "id": "dfd8f366",
   "metadata": {},
   "outputs": [],
   "source": [
    "df2.info()"
   ]
  },
  {
   "cell_type": "code",
   "execution_count": null,
   "id": "d3e1e7db",
   "metadata": {},
   "outputs": [],
   "source": []
  },
  {
   "cell_type": "code",
   "execution_count": null,
   "id": "29469b55",
   "metadata": {},
   "outputs": [],
   "source": [
    "df2.info()"
   ]
  },
  {
   "cell_type": "code",
   "execution_count": null,
   "id": "04602019",
   "metadata": {},
   "outputs": [],
   "source": []
  },
  {
   "cell_type": "code",
   "execution_count": null,
   "id": "a0a8dc66",
   "metadata": {},
   "outputs": [],
   "source": []
  },
  {
   "cell_type": "code",
   "execution_count": null,
   "id": "a0a3fae3",
   "metadata": {},
   "outputs": [],
   "source": [
    "df2 = pd.get_dummies(df2)"
   ]
  },
  {
   "cell_type": "code",
   "execution_count": null,
   "id": "30b865cb",
   "metadata": {},
   "outputs": [],
   "source": [
    "df2.head()"
   ]
  },
  {
   "cell_type": "code",
   "execution_count": null,
   "id": "f0fb484a",
   "metadata": {},
   "outputs": [],
   "source": [
    "df2.columns"
   ]
  },
  {
   "cell_type": "code",
   "execution_count": null,
   "id": "dbdcbd59",
   "metadata": {},
   "outputs": [],
   "source": []
  },
  {
   "cell_type": "code",
   "execution_count": null,
   "id": "bfa9a4ea",
   "metadata": {},
   "outputs": [],
   "source": [
    "len(df2.index)"
   ]
  },
  {
   "cell_type": "code",
   "execution_count": null,
   "id": "514aa8f2",
   "metadata": {},
   "outputs": [],
   "source": [
    "from sklearn.preprocessing import StandardScaler\n",
    "data = df2\n",
    "scaler = StandardScaler()\n",
    "print(scaler.fit(data))\n",
    "StandardScaler()\n",
    "print(scaler.mean_)\n",
    "\n",
    "print(scaler.transform(data))\n",
    "\n",
    "print(scaler.transform([[7, 7]]))\n"
   ]
  },
  {
   "cell_type": "code",
   "execution_count": null,
   "id": "996e2e7b",
   "metadata": {},
   "outputs": [],
   "source": []
  },
  {
   "cell_type": "code",
   "execution_count": null,
   "id": "cb1a806e",
   "metadata": {},
   "outputs": [],
   "source": []
  },
  {
   "cell_type": "code",
   "execution_count": null,
   "id": "50441fbd",
   "metadata": {},
   "outputs": [],
   "source": []
  },
  {
   "cell_type": "code",
   "execution_count": null,
   "id": "2282a162",
   "metadata": {},
   "outputs": [],
   "source": []
  },
  {
   "cell_type": "code",
   "execution_count": null,
   "id": "b8e0b36c",
   "metadata": {},
   "outputs": [],
   "source": []
  },
  {
   "cell_type": "code",
   "execution_count": null,
   "id": "25b8e452",
   "metadata": {},
   "outputs": [],
   "source": [
    "df_name = df2.beer_name\n",
    "df_styles = df2[\"style\"]\n",
    "df2.drop([\"beer_name\", \"style\"], axis=1, inplace=True)\n",
    "df2 = pd.get_dummies(df2)\n",
    "df2"
   ]
  },
  {
   "cell_type": "code",
   "execution_count": null,
   "id": "4f803539",
   "metadata": {},
   "outputs": [],
   "source": [
    "df3 = df2.copy()\n",
    "df3[\"beer_name\"] = df_name\n",
    "df3[\"style\"] = df_styles"
   ]
  },
  {
   "cell_type": "code",
   "execution_count": null,
   "id": "4bffd778",
   "metadata": {},
   "outputs": [],
   "source": [
    "first_column = df3.pop('beer_name')\n",
    "df3.insert(0, 'beer_name', first_column)\n",
    "second_column = df3.pop('style')\n",
    "df3.insert(1, 'style', second_column)"
   ]
  },
  {
   "cell_type": "code",
   "execution_count": null,
   "id": "3b7100a4",
   "metadata": {},
   "outputs": [],
   "source": [
    "df3.head()"
   ]
  },
  {
   "cell_type": "code",
   "execution_count": null,
   "id": "5bde32c2",
   "metadata": {},
   "outputs": [],
   "source": [
    "output_data_file = \"beer_rec.csv\""
   ]
  },
  {
   "cell_type": "code",
   "execution_count": null,
   "id": "f557248f",
   "metadata": {},
   "outputs": [],
   "source": [
    "df3.to_csv(output_data_file,index=False)"
   ]
  },
  {
   "cell_type": "code",
   "execution_count": null,
   "id": "6f1978d7",
   "metadata": {},
   "outputs": [],
   "source": [
    "# to find beer if user knows the beer name\n",
    "def get_recommended(df, beer_name, n_neighbors=10):\n",
    "    \n",
    "    df_sub = df.drop([\"beer_name\", \"style\"], axis=1)\n",
    "    model_knn = NearestNeighbors(metric='cosine', n_neighbors=n_neighbors)\n",
    "    model_knn.fit(df_sub)\n",
    "    \n",
    "    beer = df.loc[df[\"beer_name\"] == beer_name]\n",
    "    beer = beer.drop([\"beer_name\", \"style\"], axis=1)\n",
    "    beer = beer.to_numpy()\n",
    "    \n",
    "    distances, indices = model_knn.kneighbors(beer, n_neighbors = n_neighbors)\n",
    "    \n",
    "    result = df.iloc[indices.flatten()]\n",
    "    result[\"Distance\"] = distances.flatten()\n",
    "    \n",
    "    return result"
   ]
  },
  {
   "cell_type": "code",
   "execution_count": null,
   "id": "b038798a",
   "metadata": {},
   "outputs": [],
   "source": [
    "df_result = get_recommended(df3, \"Smash And Grab\")"
   ]
  },
  {
   "cell_type": "code",
   "execution_count": null,
   "id": "9313e7a7",
   "metadata": {},
   "outputs": [],
   "source": [
    "df_result.head(20)"
   ]
  },
  {
   "cell_type": "code",
   "execution_count": null,
   "id": "3b9f4c06",
   "metadata": {},
   "outputs": [],
   "source": [
    "# to find beer if user knows nothing about beer and wants to use genre and review score\n",
    "def get_recommended_style(df, style, abv=0.0, n_neighbors=10):\n",
    "    \n",
    "    # explain metric hyper-parm in writeup\n",
    "    df_sub = df.drop([\"beer_name\", \"style\"], axis=1)\n",
    "    model_knn = NearestNeighbors(metric='cosine', n_neighbors=n_neighbors)\n",
    "    model_knn.fit(df_sub)\n",
    "    \n",
    "    beer = df.loc[(df[\"style\"] == style) & (df.abv > abv)].sample(1)\n",
    "    beer = beer.drop([\"beer_name\", \"style\"], axis=1)\n",
    "    beer = beer.to_numpy()\n",
    "    \n",
    "    distances, indices = model_knn.kneighbors(beer, n_neighbors = n_neighbors)\n",
    "    \n",
    "    result = df.iloc[indices.flatten()]\n",
    "    result[\"Distance\"] = distances.flatten()\n",
    "    \n",
    "    return result"
   ]
  },
  {
   "cell_type": "code",
   "execution_count": null,
   "id": "9507e14b",
   "metadata": {
    "scrolled": true
   },
   "outputs": [],
   "source": [
    "df_result2 = get_recommended_style(df3, \"New England IPA\", 6.0)"
   ]
  },
  {
   "cell_type": "code",
   "execution_count": null,
   "id": "c2c296ed",
   "metadata": {},
   "outputs": [],
   "source": [
    "df_result2.head(20)"
   ]
  },
  {
   "cell_type": "code",
   "execution_count": null,
   "id": "2a79ca3c",
   "metadata": {},
   "outputs": [],
   "source": [
    "from sklearn.preprocessing import RobustScaler\n",
    "scaler = RobustScaler()\n",
    "df_result3 = pd.DataFrame(scaler.fit_transform(df_result2),\n",
    "                   columns=['beer_name', 'style', 'types', 'state', 'country', 'city',\n",
    "       'availability', 'abv', 'look', 'smell', 'taste', 'feel', 'overall'],\n",
    "                   index = [])\n",
    "ax = df_result3.plot.scatter(x='overall', y='look',color=['red','green','blue','yellow'], \n",
    "                     marker = '*',s=80, label='BEFORE SCALING');\n",
    "df_result3.plot.scatter(x='overall', y='look', color=['red','green','blue','yellow'],\n",
    "                 marker = 'o',s=60,label='AFTER SCALING', ax = ax)\n",
    "plt.axhline(0, color='red',alpha=0.2)\n",
    "plt.axvline(0, color='red',alpha=0.2);"
   ]
  },
  {
   "cell_type": "code",
   "execution_count": null,
   "id": "e6e74c17",
   "metadata": {},
   "outputs": [],
   "source": [
    "from sklearn.preprocessing import scale\n",
    "\n",
    "sc = scale()\n",
    "scaled_beer_features = sc.fit_transform(beer_features)\n",
    "scaked"
   ]
  },
  {
   "cell_type": "code",
   "execution_count": null,
   "id": "cce29bd4",
   "metadata": {},
   "outputs": [],
   "source": []
  },
  {
   "cell_type": "code",
   "execution_count": null,
   "id": "5ea719e9",
   "metadata": {},
   "outputs": [],
   "source": [
    "df.columns"
   ]
  },
  {
   "cell_type": "code",
   "execution_count": null,
   "id": "31c6acd5",
   "metadata": {},
   "outputs": [],
   "source": []
  }
 ],
 "metadata": {
  "kernelspec": {
   "display_name": "Python 3 (ipykernel)",
   "language": "python",
   "name": "python3"
  },
  "language_info": {
   "codemirror_mode": {
    "name": "ipython",
    "version": 3
   },
   "file_extension": ".py",
   "mimetype": "text/x-python",
   "name": "python",
   "nbconvert_exporter": "python",
   "pygments_lexer": "ipython3",
   "version": "3.9.12"
  }
 },
 "nbformat": 4,
 "nbformat_minor": 5
}
