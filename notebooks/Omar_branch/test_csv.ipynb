{
 "cells": [
  {
   "cell_type": "code",
   "execution_count": 19,
   "id": "0b1866e9",
   "metadata": {},
   "outputs": [],
   "source": [
    "import pandas as pd\n",
    "import numpy as np\n",
    "import matplotlib.pyplot as plt\n",
    "from sklearn.neighbors import NearestNeighbors"
   ]
  },
  {
   "cell_type": "code",
   "execution_count": 20,
   "id": "d9521387",
   "metadata": {},
   "outputs": [],
   "source": [
    "df = pd.read_csv(\"Resources/Clean/aggregated_review_scores.csv\")"
   ]
  },
  {
   "cell_type": "code",
   "execution_count": 21,
   "id": "f34be0bc",
   "metadata": {},
   "outputs": [
    {
     "data": {
      "text/html": [
       "<div>\n",
       "<style scoped>\n",
       "    .dataframe tbody tr th:only-of-type {\n",
       "        vertical-align: middle;\n",
       "    }\n",
       "\n",
       "    .dataframe tbody tr th {\n",
       "        vertical-align: top;\n",
       "    }\n",
       "\n",
       "    .dataframe thead th {\n",
       "        text-align: right;\n",
       "    }\n",
       "</style>\n",
       "<table border=\"1\" class=\"dataframe\">\n",
       "  <thead>\n",
       "    <tr style=\"text-align: right;\">\n",
       "      <th></th>\n",
       "      <th>beer_id</th>\n",
       "      <th>beer_name</th>\n",
       "      <th>beer_style</th>\n",
       "      <th>look</th>\n",
       "      <th>smell</th>\n",
       "      <th>taste</th>\n",
       "      <th>feel</th>\n",
       "      <th>overall</th>\n",
       "      <th>estimated_ibu</th>\n",
       "      <th>availability</th>\n",
       "      <th>abv</th>\n",
       "      <th>brewery_id</th>\n",
       "      <th>brewery_name</th>\n",
       "      <th>city</th>\n",
       "      <th>state</th>\n",
       "      <th>country</th>\n",
       "      <th>types</th>\n",
       "    </tr>\n",
       "  </thead>\n",
       "  <tbody>\n",
       "    <tr>\n",
       "      <th>0</th>\n",
       "      <td>203086</td>\n",
       "      <td>Hopper House Double IPA</td>\n",
       "      <td>American Imperial IPA</td>\n",
       "      <td>3.326923</td>\n",
       "      <td>3.346154</td>\n",
       "      <td>3.288462</td>\n",
       "      <td>3.307692</td>\n",
       "      <td>3.307692</td>\n",
       "      <td>83</td>\n",
       "      <td>Year-round</td>\n",
       "      <td>8.0</td>\n",
       "      <td>43368</td>\n",
       "      <td>Spindletap Brewery</td>\n",
       "      <td>Houston</td>\n",
       "      <td>TX</td>\n",
       "      <td>US</td>\n",
       "      <td>Brewery, Bar</td>\n",
       "    </tr>\n",
       "    <tr>\n",
       "      <th>1</th>\n",
       "      <td>296880</td>\n",
       "      <td>Juiceton</td>\n",
       "      <td>New England IPA</td>\n",
       "      <td>4.330000</td>\n",
       "      <td>4.300000</td>\n",
       "      <td>4.330000</td>\n",
       "      <td>4.320000</td>\n",
       "      <td>4.310000</td>\n",
       "      <td>60</td>\n",
       "      <td>Rotating</td>\n",
       "      <td>8.5</td>\n",
       "      <td>43368</td>\n",
       "      <td>Spindletap Brewery</td>\n",
       "      <td>Houston</td>\n",
       "      <td>TX</td>\n",
       "      <td>US</td>\n",
       "      <td>Brewery, Bar</td>\n",
       "    </tr>\n",
       "    <tr>\n",
       "      <th>2</th>\n",
       "      <td>319844</td>\n",
       "      <td>Rauchtabout</td>\n",
       "      <td>Irish Dry Stout</td>\n",
       "      <td>3.583333</td>\n",
       "      <td>3.500000</td>\n",
       "      <td>3.500000</td>\n",
       "      <td>3.416667</td>\n",
       "      <td>3.500000</td>\n",
       "      <td>35</td>\n",
       "      <td>Rotating</td>\n",
       "      <td>4.5</td>\n",
       "      <td>43368</td>\n",
       "      <td>Spindletap Brewery</td>\n",
       "      <td>Houston</td>\n",
       "      <td>TX</td>\n",
       "      <td>US</td>\n",
       "      <td>Brewery, Bar</td>\n",
       "    </tr>\n",
       "    <tr>\n",
       "      <th>3</th>\n",
       "      <td>356864</td>\n",
       "      <td>Hat Trick</td>\n",
       "      <td>New England IPA</td>\n",
       "      <td>4.200000</td>\n",
       "      <td>4.200000</td>\n",
       "      <td>4.100000</td>\n",
       "      <td>4.150000</td>\n",
       "      <td>4.200000</td>\n",
       "      <td>60</td>\n",
       "      <td>Rotating</td>\n",
       "      <td>7.0</td>\n",
       "      <td>43368</td>\n",
       "      <td>Spindletap Brewery</td>\n",
       "      <td>Houston</td>\n",
       "      <td>TX</td>\n",
       "      <td>US</td>\n",
       "      <td>Brewery, Bar</td>\n",
       "    </tr>\n",
       "    <tr>\n",
       "      <th>4</th>\n",
       "      <td>334690</td>\n",
       "      <td>Tiny Gypsies</td>\n",
       "      <td>New England IPA</td>\n",
       "      <td>4.500000</td>\n",
       "      <td>4.535714</td>\n",
       "      <td>4.571429</td>\n",
       "      <td>4.464286</td>\n",
       "      <td>4.571429</td>\n",
       "      <td>60</td>\n",
       "      <td>Rotating</td>\n",
       "      <td>6.5</td>\n",
       "      <td>43368</td>\n",
       "      <td>Spindletap Brewery</td>\n",
       "      <td>Houston</td>\n",
       "      <td>TX</td>\n",
       "      <td>US</td>\n",
       "      <td>Brewery, Bar</td>\n",
       "    </tr>\n",
       "  </tbody>\n",
       "</table>\n",
       "</div>"
      ],
      "text/plain": [
       "   beer_id                beer_name             beer_style      look  \\\n",
       "0   203086  Hopper House Double IPA  American Imperial IPA  3.326923   \n",
       "1   296880                 Juiceton        New England IPA  4.330000   \n",
       "2   319844              Rauchtabout        Irish Dry Stout  3.583333   \n",
       "3   356864                Hat Trick        New England IPA  4.200000   \n",
       "4   334690             Tiny Gypsies        New England IPA  4.500000   \n",
       "\n",
       "      smell     taste      feel   overall  estimated_ibu availability  abv  \\\n",
       "0  3.346154  3.288462  3.307692  3.307692             83   Year-round  8.0   \n",
       "1  4.300000  4.330000  4.320000  4.310000             60     Rotating  8.5   \n",
       "2  3.500000  3.500000  3.416667  3.500000             35     Rotating  4.5   \n",
       "3  4.200000  4.100000  4.150000  4.200000             60     Rotating  7.0   \n",
       "4  4.535714  4.571429  4.464286  4.571429             60     Rotating  6.5   \n",
       "\n",
       "   brewery_id        brewery_name     city state country         types  \n",
       "0       43368  Spindletap Brewery  Houston    TX      US  Brewery, Bar  \n",
       "1       43368  Spindletap Brewery  Houston    TX      US  Brewery, Bar  \n",
       "2       43368  Spindletap Brewery  Houston    TX      US  Brewery, Bar  \n",
       "3       43368  Spindletap Brewery  Houston    TX      US  Brewery, Bar  \n",
       "4       43368  Spindletap Brewery  Houston    TX      US  Brewery, Bar  "
      ]
     },
     "execution_count": 21,
     "metadata": {},
     "output_type": "execute_result"
    }
   ],
   "source": [
    "df.head()"
   ]
  },
  {
   "cell_type": "code",
   "execution_count": 22,
   "id": "df62a71a",
   "metadata": {},
   "outputs": [],
   "source": [
    "for col in df:\n",
    "    if col == \"beer_style\":\n",
    "        vals = df[col].value_counts()\n",
    "        \n",
    "        for indx in vals.index:\n",
    "            val = vals[indx]\n",
    "            if val < 25:\n",
    "                df.loc[df[col] == indx, 'beer_style'] = \"Other\""
   ]
  },
  {
   "cell_type": "code",
   "execution_count": 23,
   "id": "e6f82f27",
   "metadata": {},
   "outputs": [
    {
     "data": {
      "text/plain": [
       "American IPA               405\n",
       "American Pale Ale (APA)    135\n",
       "Belgian Saison             129\n",
       "American Imperial IPA      127\n",
       "American Porter             69\n",
       "                          ... \n",
       "German Eisbock               1\n",
       "Russian Kvass                1\n",
       "Belgian Fruit Lambic         1\n",
       "Belgian Gueuze               1\n",
       "Finnish Sahti                1\n",
       "Name: beer_style, Length: 104, dtype: int64"
      ]
     },
     "execution_count": 23,
     "metadata": {},
     "output_type": "execute_result"
    }
   ],
   "source": [
    "vals"
   ]
  },
  {
   "cell_type": "code",
   "execution_count": 24,
   "id": "e26feba3",
   "metadata": {},
   "outputs": [
    {
     "data": {
      "text/plain": [
       "Other                          633\n",
       "American IPA                   405\n",
       "American Pale Ale (APA)        135\n",
       "Belgian Saison                 129\n",
       "American Imperial IPA          127\n",
       "American Blonde Ale             69\n",
       "American Porter                 69\n",
       "American Amber / Red Ale        66\n",
       "American Imperial Stout         63\n",
       "American Stout                  63\n",
       "American Wild Ale               62\n",
       "Belgian Witbier                 54\n",
       "English Sweet / Milk Stout      41\n",
       "American Brown Ale              40\n",
       "German Hefeweizen               39\n",
       "American Pale Wheat Ale         38\n",
       "German Kölsch                   38\n",
       "Leipzig Gose                    34\n",
       "American Black Ale              32\n",
       "Berliner Weisse                 32\n",
       "German Pilsner                  32\n",
       "German Märzen / Oktoberfest     31\n",
       "Russian Imperial Stout          30\n",
       "American Lager                  29\n",
       "Fruit and Field Beer            29\n",
       "American Cream Ale              27\n",
       "Name: beer_style, dtype: int64"
      ]
     },
     "execution_count": 24,
     "metadata": {},
     "output_type": "execute_result"
    }
   ],
   "source": [
    "df.beer_style.value_counts()"
   ]
  },
  {
   "cell_type": "code",
   "execution_count": 26,
   "id": "80059fa8",
   "metadata": {},
   "outputs": [],
   "source": [
    "df.to_csv(\"test.csv\")"
   ]
  },
  {
   "cell_type": "code",
   "execution_count": null,
   "id": "c9bcb841",
   "metadata": {},
   "outputs": [],
   "source": []
  },
  {
   "cell_type": "code",
   "execution_count": null,
   "id": "86cb3759",
   "metadata": {},
   "outputs": [],
   "source": []
  },
  {
   "cell_type": "code",
   "execution_count": null,
   "id": "1dbd5a5e",
   "metadata": {},
   "outputs": [],
   "source": []
  },
  {
   "cell_type": "code",
   "execution_count": null,
   "id": "35147264",
   "metadata": {},
   "outputs": [],
   "source": []
  },
  {
   "cell_type": "code",
   "execution_count": null,
   "id": "9ba0b722",
   "metadata": {},
   "outputs": [],
   "source": []
  },
  {
   "cell_type": "code",
   "execution_count": null,
   "id": "bf0d78fe",
   "metadata": {},
   "outputs": [],
   "source": []
  },
  {
   "cell_type": "code",
   "execution_count": null,
   "id": "01946dc4",
   "metadata": {},
   "outputs": [],
   "source": []
  },
  {
   "cell_type": "code",
   "execution_count": null,
   "id": "bb1544c4",
   "metadata": {},
   "outputs": [],
   "source": []
  },
  {
   "cell_type": "code",
   "execution_count": null,
   "id": "c8349f52",
   "metadata": {},
   "outputs": [],
   "source": []
  },
  {
   "cell_type": "code",
   "execution_count": null,
   "id": "d8887778",
   "metadata": {},
   "outputs": [],
   "source": []
  },
  {
   "cell_type": "code",
   "execution_count": null,
   "id": "c903407a",
   "metadata": {},
   "outputs": [],
   "source": []
  },
  {
   "cell_type": "code",
   "execution_count": null,
   "id": "6d7b5eb1",
   "metadata": {},
   "outputs": [],
   "source": []
  }
 ],
 "metadata": {
  "kernelspec": {
   "display_name": "Python 3 (ipykernel)",
   "language": "python",
   "name": "python3"
  },
  "language_info": {
   "codemirror_mode": {
    "name": "ipython",
    "version": 3
   },
   "file_extension": ".py",
   "mimetype": "text/x-python",
   "name": "python",
   "nbconvert_exporter": "python",
   "pygments_lexer": "ipython3",
   "version": "3.9.12"
  }
 },
 "nbformat": 4,
 "nbformat_minor": 5
}
