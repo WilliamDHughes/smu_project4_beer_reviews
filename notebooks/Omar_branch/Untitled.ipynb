{
 "cells": [
  {
   "cell_type": "code",
   "execution_count": 3,
   "id": "102cdad1",
   "metadata": {},
   "outputs": [],
   "source": [
    "import pandas as pd\n",
    "import numpy as np\n",
    "import matplotlib.pyplot as plt\n",
    "from sklearn.neighbors import NearestNeighbors"
   ]
  },
  {
   "cell_type": "code",
   "execution_count": null,
   "id": "1257c109",
   "metadata": {},
   "outputs": [],
   "source": [
    "df = pd.read_csv(\"test.csv\")"
   ]
  },
  {
   "cell_type": "code",
   "execution_count": null,
   "id": "7a822e08",
   "metadata": {},
   "outputs": [],
   "source": [
    "df.head()"
   ]
  },
  {
   "cell_type": "code",
   "execution_count": null,
   "id": "aff8cdf2",
   "metadata": {},
   "outputs": [],
   "source": [
    "df = df.drop(['Unnamed: 0', 'beer_id', 'brewery_id', 'beer_name', 'types',\n",
    "       'state', 'country', 'city'], axis=1)"
   ]
  },
  {
   "cell_type": "code",
   "execution_count": null,
   "id": "06b2f77e",
   "metadata": {},
   "outputs": [],
   "source": [
    "df[\"beer_style\"].value_counts()"
   ]
  },
  {
   "cell_type": "code",
   "execution_count": null,
   "id": "ea0bf06e",
   "metadata": {},
   "outputs": [],
   "source": [
    "df = df[list(df.columns[~df.columns.duplicated()])]"
   ]
  },
  {
   "cell_type": "code",
   "execution_count": null,
   "id": "b5b4e3ed",
   "metadata": {},
   "outputs": [],
   "source": [
    "df.head()"
   ]
  },
  {
   "cell_type": "code",
   "execution_count": null,
   "id": "e86d3179",
   "metadata": {},
   "outputs": [],
   "source": [
    "styles = sorted(df[\"beer_style\"].unique())\n",
    "\n",
    "for i in range(len(styles)):\n",
    "    style = styles[i]\n",
    "    df.loc[df[\"beer_style\"] == style, \"beer_style\"] = i\n",
    "styles"
   ]
  },
  {
   "cell_type": "code",
   "execution_count": null,
   "id": "12445e82",
   "metadata": {},
   "outputs": [],
   "source": [
    "df = df[list(df.columns[~df.columns.duplicated()])]"
   ]
  },
  {
   "cell_type": "code",
   "execution_count": null,
   "id": "782fb6d5",
   "metadata": {},
   "outputs": [],
   "source": [
    "df[\"beer_style\"] = pd.to_numeric(df[\"beer_style\"])"
   ]
  },
  {
   "cell_type": "code",
   "execution_count": null,
   "id": "6ff55cef",
   "metadata": {},
   "outputs": [],
   "source": [
    "df.head()"
   ]
  },
  {
   "cell_type": "code",
   "execution_count": null,
   "id": "bf06d7a6",
   "metadata": {},
   "outputs": [],
   "source": [
    "avails = sorted(df[\"availability\"].unique())\n",
    "\n",
    "for i in range(len(avails)):\n",
    "    avail = avails[i]\n",
    "    df.loc[df[\"availability\"] == avail, \"availability\"] = i\n",
    "avails"
   ]
  },
  {
   "cell_type": "code",
   "execution_count": null,
   "id": "088ac9b1",
   "metadata": {},
   "outputs": [],
   "source": [
    "df[\"beer_style\"] = pd.to_numeric(df[\"beer_style\"])"
   ]
  },
  {
   "cell_type": "code",
   "execution_count": null,
   "id": "ddb2eec1",
   "metadata": {},
   "outputs": [],
   "source": [
    "df.head()"
   ]
  },
  {
   "cell_type": "code",
   "execution_count": null,
   "id": "96597275",
   "metadata": {},
   "outputs": [],
   "source": [
    "names = sorted(df[\"brewery_name\"].unique())\n",
    "\n",
    "for i in range(len(names)):\n",
    "    name = names[i]\n",
    "    df.loc[df[\"brewery_name\"] == name, \"brewery_name\"] = i\n",
    "names"
   ]
  },
  {
   "cell_type": "code",
   "execution_count": null,
   "id": "1bda3582",
   "metadata": {},
   "outputs": [],
   "source": [
    "df = df[list(df.columns[~df.columns.duplicated()])]"
   ]
  },
  {
   "cell_type": "code",
   "execution_count": null,
   "id": "9e29d3d3",
   "metadata": {},
   "outputs": [],
   "source": [
    "df[\"brewery_name\"] = pd.to_numeric(df[\"brewery_name\"])"
   ]
  },
  {
   "cell_type": "code",
   "execution_count": null,
   "id": "280d689b",
   "metadata": {},
   "outputs": [],
   "source": [
    "df.head()"
   ]
  },
  {
   "cell_type": "code",
   "execution_count": null,
   "id": "d708c490",
   "metadata": {},
   "outputs": [],
   "source": [
    "df = pd.read_csv(\"test.csv\")"
   ]
  },
  {
   "cell_type": "code",
   "execution_count": 1,
   "id": "6f934be0",
   "metadata": {},
   "outputs": [
    {
     "ename": "NameError",
     "evalue": "name 'df' is not defined",
     "output_type": "error",
     "traceback": [
      "\u001b[0;31m---------------------------------------------------------------------------\u001b[0m",
      "\u001b[0;31mNameError\u001b[0m                                 Traceback (most recent call last)",
      "Input \u001b[0;32mIn [1]\u001b[0m, in \u001b[0;36m<cell line: 1>\u001b[0;34m()\u001b[0m\n\u001b[0;32m----> 1\u001b[0m df \u001b[38;5;241m=\u001b[39m \u001b[43mdf\u001b[49m\u001b[38;5;241m.\u001b[39mdrop([\u001b[38;5;124m\"\u001b[39m\u001b[38;5;124mbeer_id\u001b[39m\u001b[38;5;124m\"\u001b[39m,\u001b[38;5;124m\"\u001b[39m\u001b[38;5;124mbrewery_id\u001b[39m\u001b[38;5;124m\"\u001b[39m], axis \u001b[38;5;241m=\u001b[39m \u001b[38;5;241m1\u001b[39m)\n",
      "\u001b[0;31mNameError\u001b[0m: name 'df' is not defined"
     ]
    }
   ],
   "source": [
    "df = df.drop([\"beer_id\",\"brewery_id\"], axis = 1)"
   ]
  },
  {
   "cell_type": "code",
   "execution_count": 2,
   "id": "216e70d1",
   "metadata": {},
   "outputs": [
    {
     "ename": "NameError",
     "evalue": "name 'df' is not defined",
     "output_type": "error",
     "traceback": [
      "\u001b[0;31m---------------------------------------------------------------------------\u001b[0m",
      "\u001b[0;31mNameError\u001b[0m                                 Traceback (most recent call last)",
      "Input \u001b[0;32mIn [2]\u001b[0m, in \u001b[0;36m<cell line: 1>\u001b[0;34m()\u001b[0m\n\u001b[0;32m----> 1\u001b[0m df2 \u001b[38;5;241m=\u001b[39m \u001b[43mdf\u001b[49m\u001b[38;5;241m.\u001b[39mcopy()\n",
      "\u001b[0;31mNameError\u001b[0m: name 'df' is not defined"
     ]
    }
   ],
   "source": [
    "df2 = df.copy()"
   ]
  },
  {
   "cell_type": "code",
   "execution_count": null,
   "id": "60e631b5",
   "metadata": {},
   "outputs": [],
   "source": [
    "df2.head()"
   ]
  },
  {
   "cell_type": "code",
   "execution_count": null,
   "id": "1c60b75d",
   "metadata": {},
   "outputs": [],
   "source": []
  }
 ],
 "metadata": {
  "kernelspec": {
   "display_name": "Python 3 (ipykernel)",
   "language": "python",
   "name": "python3"
  },
  "language_info": {
   "codemirror_mode": {
    "name": "ipython",
    "version": 3
   },
   "file_extension": ".py",
   "mimetype": "text/x-python",
   "name": "python",
   "nbconvert_exporter": "python",
   "pygments_lexer": "ipython3",
   "version": "3.9.12"
  }
 },
 "nbformat": 4,
 "nbformat_minor": 5
}
