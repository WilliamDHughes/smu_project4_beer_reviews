{
 "cells": [
  {
   "cell_type": "code",
   "execution_count": 34,
   "id": "0f5928a9",
   "metadata": {},
   "outputs": [],
   "source": [
    "import pandas as pd"
   ]
  },
  {
   "cell_type": "code",
   "execution_count": 35,
   "id": "c649d20f",
   "metadata": {},
   "outputs": [],
   "source": [
    "df_breweries = pd.read_csv(\"Resources/Original/breweries.csv\")"
   ]
  },
  {
   "cell_type": "code",
   "execution_count": 36,
   "id": "629af209",
   "metadata": {},
   "outputs": [
    {
     "data": {
      "text/html": [
       "<div>\n",
       "<style scoped>\n",
       "    .dataframe tbody tr th:only-of-type {\n",
       "        vertical-align: middle;\n",
       "    }\n",
       "\n",
       "    .dataframe tbody tr th {\n",
       "        vertical-align: top;\n",
       "    }\n",
       "\n",
       "    .dataframe thead th {\n",
       "        text-align: right;\n",
       "    }\n",
       "</style>\n",
       "<table border=\"1\" class=\"dataframe\">\n",
       "  <thead>\n",
       "    <tr style=\"text-align: right;\">\n",
       "      <th></th>\n",
       "      <th>id</th>\n",
       "      <th>name</th>\n",
       "      <th>city</th>\n",
       "      <th>state</th>\n",
       "      <th>country</th>\n",
       "      <th>notes</th>\n",
       "      <th>types</th>\n",
       "    </tr>\n",
       "  </thead>\n",
       "  <tbody>\n",
       "    <tr>\n",
       "      <th>0</th>\n",
       "      <td>19730</td>\n",
       "      <td>Brouwerij Danny</td>\n",
       "      <td>Erpe-Mere</td>\n",
       "      <td>NaN</td>\n",
       "      <td>BE</td>\n",
       "      <td>No notes at this time.</td>\n",
       "      <td>Brewery</td>\n",
       "    </tr>\n",
       "    <tr>\n",
       "      <th>1</th>\n",
       "      <td>32541</td>\n",
       "      <td>Coachella Valley Brewing Co</td>\n",
       "      <td>Thousand Palms</td>\n",
       "      <td>CA</td>\n",
       "      <td>US</td>\n",
       "      <td>No notes at this time.</td>\n",
       "      <td>Brewery, Bar, Beer-to-go</td>\n",
       "    </tr>\n",
       "    <tr>\n",
       "      <th>2</th>\n",
       "      <td>44736</td>\n",
       "      <td>Beef 'O' Brady's</td>\n",
       "      <td>Plant City</td>\n",
       "      <td>FL</td>\n",
       "      <td>US</td>\n",
       "      <td>No notes at this time.</td>\n",
       "      <td>Bar, Eatery</td>\n",
       "    </tr>\n",
       "    <tr>\n",
       "      <th>3</th>\n",
       "      <td>23372</td>\n",
       "      <td>Broadway Wine Merchant</td>\n",
       "      <td>Oklahoma City</td>\n",
       "      <td>OK</td>\n",
       "      <td>US</td>\n",
       "      <td>No notes at this time.</td>\n",
       "      <td>Store</td>\n",
       "    </tr>\n",
       "    <tr>\n",
       "      <th>4</th>\n",
       "      <td>35328</td>\n",
       "      <td>Brighton Beer Dispensary (DUPLICATE)</td>\n",
       "      <td>Brighton</td>\n",
       "      <td>GB2</td>\n",
       "      <td>GB</td>\n",
       "      <td>Duplicate of https://www.beeradvocate.com/beer...</td>\n",
       "      <td>Bar, Eatery</td>\n",
       "    </tr>\n",
       "  </tbody>\n",
       "</table>\n",
       "</div>"
      ],
      "text/plain": [
       "      id                                  name            city state country  \\\n",
       "0  19730                       Brouwerij Danny       Erpe-Mere   NaN      BE   \n",
       "1  32541           Coachella Valley Brewing Co  Thousand Palms    CA      US   \n",
       "2  44736                      Beef 'O' Brady's      Plant City    FL      US   \n",
       "3  23372                Broadway Wine Merchant   Oklahoma City    OK      US   \n",
       "4  35328  Brighton Beer Dispensary (DUPLICATE)        Brighton   GB2      GB   \n",
       "\n",
       "                                               notes                     types  \n",
       "0                             No notes at this time.                   Brewery  \n",
       "1                             No notes at this time.  Brewery, Bar, Beer-to-go  \n",
       "2                             No notes at this time.               Bar, Eatery  \n",
       "3                             No notes at this time.                     Store  \n",
       "4  Duplicate of https://www.beeradvocate.com/beer...               Bar, Eatery  "
      ]
     },
     "execution_count": 36,
     "metadata": {},
     "output_type": "execute_result"
    }
   ],
   "source": [
    "df_breweries.head()"
   ]
  },
  {
   "cell_type": "code",
   "execution_count": 37,
   "id": "74368762",
   "metadata": {},
   "outputs": [
    {
     "name": "stdout",
     "output_type": "stream",
     "text": [
      "<class 'pandas.core.frame.DataFrame'>\n",
      "RangeIndex: 50347 entries, 0 to 50346\n",
      "Data columns (total 7 columns):\n",
      " #   Column   Non-Null Count  Dtype \n",
      "---  ------   --------------  ----- \n",
      " 0   id       50347 non-null  int64 \n",
      " 1   name     50347 non-null  object\n",
      " 2   city     50289 non-null  object\n",
      " 3   state    39076 non-null  object\n",
      " 4   country  50341 non-null  object\n",
      " 5   notes    50262 non-null  object\n",
      " 6   types    50347 non-null  object\n",
      "dtypes: int64(1), object(6)\n",
      "memory usage: 2.7+ MB\n"
     ]
    }
   ],
   "source": [
    "df_breweries.info()"
   ]
  },
  {
   "cell_type": "code",
   "execution_count": 38,
   "id": "8fb32203",
   "metadata": {},
   "outputs": [
    {
     "name": "stdout",
     "output_type": "stream",
     "text": [
      "<class 'pandas.core.frame.DataFrame'>\n",
      "Int64Index: 1342 entries, 10 to 50331\n",
      "Data columns (total 7 columns):\n",
      " #   Column   Non-Null Count  Dtype \n",
      "---  ------   --------------  ----- \n",
      " 0   id       1342 non-null   int64 \n",
      " 1   name     1342 non-null   object\n",
      " 2   city     1342 non-null   object\n",
      " 3   state    1342 non-null   object\n",
      " 4   country  1342 non-null   object\n",
      " 5   notes    1339 non-null   object\n",
      " 6   types    1342 non-null   object\n",
      "dtypes: int64(1), object(6)\n",
      "memory usage: 83.9+ KB\n"
     ]
    }
   ],
   "source": [
    "df_breweries_tx = df_breweries.loc[df_breweries[\"state\"] == \"TX\"]\n",
    "df_breweries_tx.info()"
   ]
  },
  {
   "cell_type": "code",
   "execution_count": 39,
   "id": "7c5628c7",
   "metadata": {},
   "outputs": [
    {
     "data": {
      "text/plain": [
       "No notes at this time.                                                                                                                                                                                                                                                                                                                                                                                                                                                                                                                                                                                1289\n",
       "All of the BJ's house beers are contract brewed by the Saint Arnold brewery in Houston, TX.                                                                                                                                                                                                                                                                                                                                                                                                                                                                                                              2\n",
       "Closed April 2009                                                                                                                                                                                                                                                                                                                                                                                                                                                                                                                                                                                        1\n",
       "Closed 10/17                                                                                                                                                                                                                                                                                                                                                                                                                                                                                                                                                                                             1\n",
       "MillerCoors acquired a majority stake in August 2016.                                                                                                                                                                                                                                                                                                                                                                                                                                                                                                                                                    1\n",
       "Only open till 8pm Mon-Sat, 7pm on Sundays.                                                                                                                                                                                                                                                                                                                                                                                                                                                                                                                                                              1\n",
       "Closed as of 1/17/07.                                                                                                                                                                                                                                                                                                                                                                                                                                                                                                                                                                                    1\n",
       "July 2017 acquired by Constellation Brands.                                                                                                                                                                                                                                                                                                                                                                                                                                                                                                                                                              1\n",
       "Duplicate of https://www.beeradvocate.com/beer/profile/36212/                                                                                                                                                                                                                                                                                                                                                                                                                                                                                                                                            1\n",
       "Beers are not brewed on premises at this location.                                                                                                                                                                                                                                                                                                                                                                                                                                                                                                                                                       1\n",
       "Beer is brewed at another location (perhaps Dallas).                                                                                                                                                                                                                                                                                                                                                                                                                                                                                                                                                     1\n",
       "Growler fills 12-4PM Saturday only                                                                                                                                                                                                                                                                                                                                                                                                                                                                                                                                                                       1\n",
       "Dupe entry, please review the other listing as this one is being purged.                                                                                                                                                                                                                                                                                                                                                                                                                                                                                                                                 1\n",
       "Family-owned brewery on 15 acres just outside Austin in Dripping Springs. Come relax in the hill country and enjoy a wide variety of hand-crafted beers and one of Austin's finest food trucks.                                                                                                                                                                                                                                                                                                                                                                                                          1\n",
       "http://leaguebrewpub.com/                                                                                                                                                                                                                                                                                                                                                                                                                                                                                                                                                                                1\n",
       " No notes at this time.                                                                                                                                                                                                                                                                                                                                                                                                                                                                                                                                                                                  1\n",
       "Monday - Saturday: 10am - 9pm                                                                                                                                                                                                                                                                                                                                                                                                                                                                                                                                                                            1\n",
       "Seasonal brewery open during Texas Renaissance Festival.                                                                                                                                                                                                                                                                                                                                                                                                                                                                                                                                                 1\n",
       "Craft beer tasting every Friday from 5PM to 8PM.                                                                                                                                                                                                                                                                                                                                                                                                                                                                                                                                                         1\n",
       "Gabriel's/Spec's outlet                                                                                                                                                                                                                                                                                                                                                                                                                                                                                                                                                                                  1\n",
       "Formerly Zio Carlo Magnolia Brew Pub & Chimera Brewing                                                                                                                                                                                                                                                                                                                                                                                                                                                                                                                                                   1\n",
       "Our bar, beer hall, and beer garden is a great place to spend your day. We’re open for lunch and dinner, six days a week. Great beer isn’t the only option. We also have pour-over coffee, housemade mineral water, and soda. And food! Our resident food truck serves amazing Asian drinking food: we’re talking sticky ribs, a Japanese Fried Chicken (JFC) sandwich, and truffle tater tots.                                                                                                                                                                                                          1\n",
       "Currently brewed/owned by Pabst.                                                                                                                                                                                                                                                                                                                                                                                                                                                                                                                                                                         1\n",
       "http://theliveoak.com/                                                                                                                                                                                                                                                                                                                                                                                                                                                                                                                                                                                   1\n",
       "Formerly Pour Society                                                                                                                                                                                                                                                                                                                                                                                                                                                                                                                                                                                    1\n",
       "Owned by AB-Inbev                                                                                                                                                                                                                                                                                                                                                                                                                                                                                                                                                                                        1\n",
       "For the new Celis Brewery, please go here:                                                                                                                                                                                                                                                                                                                                                                                                                                                                                                                                                               1\n",
       "The convenience store/gas station is branded Valero, but is independently owned by Carry On Foods.                                                                                                                                                                                                                                                                                                                                                                                                                                                                                                       1\n",
       "Established in 1917, The Simpson Inn is a small, west Texas hotel and Texas historic landmark. The inn features six differently themed rooms and offers a variety of amenities and comforts. The ale house downstairs features a menu suitable for weary travelers as well as a fine selection of craft beer and wine.                                                                                                                                                                                                                                                                                   1\n",
       "Beers listed at original location: https://www.beeradvocate.com/beer/profile/27785/                                                                                                                                                                                                                                                                                                                                                                                                                                                                                                                      1\n",
       "Tuesday Closed                                                                                                                                                                                                                                                                                                                                                                                                                                                                                                                                                                                           1\n",
       "Focused on kegging, some homebrew supplies too                                                                                                                                                                                                                                                                                                                                                                                                                                                                                                                                                           1\n",
       "All of the BJ's house beers are contract brewed by the Saint Arnold brewery in Houston, TX. The Root Beer is made on premises.                                                                                                                                                                                                                                                                                                                                                                                                                                                                           1\n",
       "Listed as \"homebrew shop\" because this is as close as it gets for Waco. Very limited supplies, including; airlocks, priming sugar, bottle caps, etc. No grain, no yeast.                                                                                                                                                                                                                                                                                                                                                                                                                                 1\n",
       "As of Oct. 2008, not affiliated with Big Buck Brewery & Steakhouse chain.                                                                                                                                                                                                                                                                                                                                                                                                                                                                                                                                1\n",
       "Main brewery for Twin Peaks Restaurants.                                                                                                                                                                                                                                                                                                                                                                                                                                                                                                                                                                 1\n",
       "Bar Blanco is located inside and fills growlers to-go.                                                                                                                                                                                                                                                                                                                                                                                                                                                                                                                                                   1\n",
       "Since 1997, Live Oak Brewing Company has been committed to producing delicious lagers and ales for the enjoyment of passionate beer drinkers of Austin, Texas, and beyond. We employ an old-world style of brewing rarely found in America but practiced extensively throughout central Europe. We source only the best authentic ingredients, and use a time-consuming mash, open fermentation, and secondary lagering process. The result has achieved both regional and national acclaim, but more importantly, the satisfaction of loyal beer drinkers who appreciate our beer-making efforts.       1\n",
       "Contract brewed at Lion Brewery, Inc.                                                                                                                                                                                                                                                                                                                                                                                                                                                                                                                                                                    1\n",
       "Root Beer and Cream Soda made on premises, but the beer is brewed under contract by Saint Arnold in Houston.                                                                                                                                                                                                                                                                                                                                                                                                                                                                                             1\n",
       "Brewed by Pearl Brewing Co, La Crosse, WI.                                                                                                                                                                                                                                                                                                                                                                                                                                                                                                                                                               1\n",
       "Armadillo Ale Works is a brewery based in Denton, TX. Deep Ellum Brewing Company is currently letting them use their facility to brew their beers while they continue to raise funds to get their Denton brewery open.                                                                                                                                                                                                                                                                                                                                                                                   1\n",
       "Taproom open Sat 12 - 6 pm                                                                                                                                                                                                                                                                                                                                                                                                                                                                                                                                                                               1\n",
       "Brewing operations moved to Acopon Brewing Company:                                                                                                                                                                                                                                                                                                                                                                                                                                                                                                                                                      1\n",
       "September 24th, 2010                                                                                                                                                                                                                                                                                                                                                                                                                                                                                                                                                                                     1\n",
       "Closed 6/9/2007                                                                                                                                                                                                                                                                                                                                                                                                                                                                                                                                                                                          1\n",
       "Beer bar waiting to get its license to brew & serve on-premise.                                                                                                                                                                                                                                                                                                                                                                                                                                                                                                                                          1\n",
       "Beers for this location are brewed off-site (under contract by Saint Arnold in Houston.).                                                                                                                                                                                                                                                                                                                                                                                                                                                                                                                1\n",
       "Despite the name, they offer beer.                                                                                                                                                                                                                                                                                                                                                                                                                                                                                                                                                                       1\n",
       "The Texas & Pacific (T & P) Tavern is a restored 1931 railroad station diner converted to a bar/tavern.                                                                                                                                                                                                                                                                                                                                                                                                                                                                                                  1\n",
       "Name: notes, dtype: int64"
      ]
     },
     "execution_count": 39,
     "metadata": {},
     "output_type": "execute_result"
    }
   ],
   "source": [
    "df_breweries_tx.notes.value_counts()"
   ]
  },
  {
   "cell_type": "code",
   "execution_count": 40,
   "id": "b3cfa05a",
   "metadata": {},
   "outputs": [
    {
     "data": {
      "text/plain": [
       "Total Wine & More              16\n",
       "BJ's Restaurant & Brewhouse    10\n",
       "Cost Plus World Market          9\n",
       "Whole Foods Market              8\n",
       "Market Street                   8\n",
       "                               ..\n",
       "Yellow Rose Brewing Company     1\n",
       "Nobi Public House               1\n",
       "Jester King Brewery             1\n",
       "Oddwood Ales                    1\n",
       "Baker Street Pub & Grill        1\n",
       "Name: name, Length: 1194, dtype: int64"
      ]
     },
     "execution_count": 40,
     "metadata": {},
     "output_type": "execute_result"
    }
   ],
   "source": [
    "df_breweries_tx.name.value_counts()"
   ]
  },
  {
   "cell_type": "code",
   "execution_count": 41,
   "id": "f5d1f3c8",
   "metadata": {},
   "outputs": [
    {
     "name": "stdout",
     "output_type": "stream",
     "text": [
      "<class 'pandas.core.frame.DataFrame'>\n",
      "Int64Index: 323 entries, 65 to 50197\n",
      "Data columns (total 7 columns):\n",
      " #   Column   Non-Null Count  Dtype \n",
      "---  ------   --------------  ----- \n",
      " 0   id       323 non-null    int64 \n",
      " 1   name     323 non-null    object\n",
      " 2   city     323 non-null    object\n",
      " 3   state    323 non-null    object\n",
      " 4   country  323 non-null    object\n",
      " 5   notes    320 non-null    object\n",
      " 6   types    323 non-null    object\n",
      "dtypes: int64(1), object(6)\n",
      "memory usage: 20.2+ KB\n"
     ]
    }
   ],
   "source": [
    "df_breweries_tx2 = df_breweries_tx.loc[df_breweries_tx[\"types\"].str.contains('Brewery')]\n",
    "df_breweries_tx2.info()"
   ]
  },
  {
   "cell_type": "code",
   "execution_count": 42,
   "id": "159d34bf",
   "metadata": {},
   "outputs": [
    {
     "data": {
      "text/plain": [
       "Two Rows Restaurant & Brewery    3\n",
       "BJ's Restaurant & Brewhouse      3\n",
       "The Lone Pint Brewery            1\n",
       "New Main Brewing Company         1\n",
       "Ruba Brewing                     1\n",
       "                                ..\n",
       "South Austin Brewery             1\n",
       "Fort Bend Brewing Co.            1\n",
       "Resignation Brewery              1\n",
       "Old Town Brewhouse               1\n",
       "Nine-Band Brewing Company        1\n",
       "Name: name, Length: 319, dtype: int64"
      ]
     },
     "execution_count": 42,
     "metadata": {},
     "output_type": "execute_result"
    }
   ],
   "source": [
    "df_breweries_tx2.name.value_counts()"
   ]
  },
  {
   "cell_type": "code",
   "execution_count": 43,
   "id": "540c6609",
   "metadata": {},
   "outputs": [
    {
     "data": {
      "text/plain": [
       "No notes at this time.                                                                                                                                                                                                                                                                                                                                                                                                                                                                                                                                                                                296\n",
       "Owned by AB-Inbev                                                                                                                                                                                                                                                                                                                                                                                                                                                                                                                                                                                       1\n",
       "Our bar, beer hall, and beer garden is a great place to spend your day. We’re open for lunch and dinner, six days a week. Great beer isn’t the only option. We also have pour-over coffee, housemade mineral water, and soda. And food! Our resident food truck serves amazing Asian drinking food: we’re talking sticky ribs, a Japanese Fried Chicken (JFC) sandwich, and truffle tater tots.                                                                                                                                                                                                         1\n",
       "Formerly Zio Carlo Magnolia Brew Pub & Chimera Brewing                                                                                                                                                                                                                                                                                                                                                                                                                                                                                                                                                  1\n",
       "Seasonal brewery open during Texas Renaissance Festival.                                                                                                                                                                                                                                                                                                                                                                                                                                                                                                                                                1\n",
       "http://leaguebrewpub.com/                                                                                                                                                                                                                                                                                                                                                                                                                                                                                                                                                                               1\n",
       "Growler fills 12-4PM Saturday only                                                                                                                                                                                                                                                                                                                                                                                                                                                                                                                                                                      1\n",
       "Duplicate of https://www.beeradvocate.com/beer/profile/36212/                                                                                                                                                                                                                                                                                                                                                                                                                                                                                                                                           1\n",
       "July 2017 acquired by Constellation Brands.                                                                                                                                                                                                                                                                                                                                                                                                                                                                                                                                                             1\n",
       "MillerCoors acquired a majority stake in August 2016.                                                                                                                                                                                                                                                                                                                                                                                                                                                                                                                                                   1\n",
       "Closed 10/17                                                                                                                                                                                                                                                                                                                                                                                                                                                                                                                                                                                            1\n",
       "Family-owned brewery on 15 acres just outside Austin in Dripping Springs. Come relax in the hill country and enjoy a wide variety of hand-crafted beers and one of Austin's finest food trucks.                                                                                                                                                                                                                                                                                                                                                                                                         1\n",
       "September 24th, 2010                                                                                                                                                                                                                                                                                                                                                                                                                                                                                                                                                                                    1\n",
       "For the new Celis Brewery, please go here:                                                                                                                                                                                                                                                                                                                                                                                                                                                                                                                                                              1\n",
       "All of the BJ's house beers are contract brewed by the Saint Arnold brewery in Houston, TX.                                                                                                                                                                                                                                                                                                                                                                                                                                                                                                             1\n",
       "Taproom open Sat 12 - 6 pm                                                                                                                                                                                                                                                                                                                                                                                                                                                                                                                                                                              1\n",
       "Armadillo Ale Works is a brewery based in Denton, TX. Deep Ellum Brewing Company is currently letting them use their facility to brew their beers while they continue to raise funds to get their Denton brewery open.                                                                                                                                                                                                                                                                                                                                                                                  1\n",
       "Brewed by Pearl Brewing Co, La Crosse, WI.                                                                                                                                                                                                                                                                                                                                                                                                                                                                                                                                                              1\n",
       "Contract brewed at Lion Brewery, Inc.                                                                                                                                                                                                                                                                                                                                                                                                                                                                                                                                                                   1\n",
       "Since 1997, Live Oak Brewing Company has been committed to producing delicious lagers and ales for the enjoyment of passionate beer drinkers of Austin, Texas, and beyond. We employ an old-world style of brewing rarely found in America but practiced extensively throughout central Europe. We source only the best authentic ingredients, and use a time-consuming mash, open fermentation, and secondary lagering process. The result has achieved both regional and national acclaim, but more importantly, the satisfaction of loyal beer drinkers who appreciate our beer-making efforts.      1\n",
       "Main brewery for Twin Peaks Restaurants.                                                                                                                                                                                                                                                                                                                                                                                                                                                                                                                                                                1\n",
       "As of Oct. 2008, not affiliated with Big Buck Brewery & Steakhouse chain.                                                                                                                                                                                                                                                                                                                                                                                                                                                                                                                               1\n",
       "Tuesday Closed                                                                                                                                                                                                                                                                                                                                                                                                                                                                                                                                                                                          1\n",
       "Beers listed at original location: https://www.beeradvocate.com/beer/profile/27785/                                                                                                                                                                                                                                                                                                                                                                                                                                                                                                                     1\n",
       "Currently brewed/owned by Pabst.                                                                                                                                                                                                                                                                                                                                                                                                                                                                                                                                                                        1\n",
       "Name: notes, dtype: int64"
      ]
     },
     "execution_count": 43,
     "metadata": {},
     "output_type": "execute_result"
    }
   ],
   "source": [
    "df_breweries_tx2.notes.value_counts()"
   ]
  },
  {
   "cell_type": "code",
   "execution_count": 44,
   "id": "71892365",
   "metadata": {},
   "outputs": [
    {
     "name": "stdout",
     "output_type": "stream",
     "text": [
      "<class 'pandas.core.frame.DataFrame'>\n",
      "RangeIndex: 323 entries, 0 to 322\n",
      "Data columns (total 6 columns):\n",
      " #   Column   Non-Null Count  Dtype \n",
      "---  ------   --------------  ----- \n",
      " 0   id       323 non-null    int64 \n",
      " 1   name     323 non-null    object\n",
      " 2   city     323 non-null    object\n",
      " 3   state    323 non-null    object\n",
      " 4   country  323 non-null    object\n",
      " 5   types    323 non-null    object\n",
      "dtypes: int64(1), object(5)\n",
      "memory usage: 15.3+ KB\n"
     ]
    }
   ],
   "source": [
    "df_breweries_clean = df_breweries_tx2.drop('notes', axis=1).reset_index(drop=True)\n",
    "df_breweries_clean.info()"
   ]
  },
  {
   "cell_type": "code",
   "execution_count": 45,
   "id": "0eae8fbd",
   "metadata": {},
   "outputs": [],
   "source": [
    "brew_ids = df_breweries_clean.id.tolist()"
   ]
  },
  {
   "cell_type": "code",
   "execution_count": 46,
   "id": "f184c9b7",
   "metadata": {},
   "outputs": [
    {
     "name": "stdout",
     "output_type": "stream",
     "text": [
      "<class 'pandas.core.frame.DataFrame'>\n",
      "RangeIndex: 358873 entries, 0 to 358872\n",
      "Data columns (total 10 columns):\n",
      " #   Column        Non-Null Count   Dtype  \n",
      "---  ------        --------------   -----  \n",
      " 0   id            358873 non-null  int64  \n",
      " 1   name          358873 non-null  object \n",
      " 2   brewery_id    358873 non-null  int64  \n",
      " 3   state         298147 non-null  object \n",
      " 4   country       358719 non-null  object \n",
      " 5   style         358872 non-null  object \n",
      " 6   availability  358873 non-null  object \n",
      " 7   abv           320076 non-null  float64\n",
      " 8   notes         358827 non-null  object \n",
      " 9   retired       358873 non-null  object \n",
      "dtypes: float64(1), int64(2), object(7)\n",
      "memory usage: 27.4+ MB\n"
     ]
    }
   ],
   "source": [
    "df_beers = pd.read_csv(\"Resources/Original/beers.csv\")\n",
    "df_beers.info()"
   ]
  },
  {
   "cell_type": "code",
   "execution_count": 47,
   "id": "456b87ba",
   "metadata": {},
   "outputs": [
    {
     "name": "stdout",
     "output_type": "stream",
     "text": [
      "<class 'pandas.core.frame.DataFrame'>\n",
      "RangeIndex: 7970 entries, 0 to 7969\n",
      "Data columns (total 10 columns):\n",
      " #   Column        Non-Null Count  Dtype  \n",
      "---  ------        --------------  -----  \n",
      " 0   id            7970 non-null   int64  \n",
      " 1   name          7970 non-null   object \n",
      " 2   brewery_id    7970 non-null   int64  \n",
      " 3   state         7970 non-null   object \n",
      " 4   country       7970 non-null   object \n",
      " 5   style         7970 non-null   object \n",
      " 6   availability  7970 non-null   object \n",
      " 7   abv           6791 non-null   float64\n",
      " 8   notes         7969 non-null   object \n",
      " 9   retired       7970 non-null   object \n",
      "dtypes: float64(1), int64(2), object(7)\n",
      "memory usage: 622.8+ KB\n"
     ]
    }
   ],
   "source": [
    "df_beers_tx = df_beers[df_beers['brewery_id'].isin(brew_ids)].reset_index(drop=True)\n",
    "df_beers_tx.info()"
   ]
  },
  {
   "cell_type": "code",
   "execution_count": 48,
   "id": "053b63a6",
   "metadata": {},
   "outputs": [
    {
     "name": "stdout",
     "output_type": "stream",
     "text": [
      "<class 'pandas.core.frame.DataFrame'>\n",
      "RangeIndex: 7970 entries, 0 to 7969\n",
      "Data columns (total 10 columns):\n",
      " #   Column        Non-Null Count  Dtype  \n",
      "---  ------        --------------  -----  \n",
      " 0   id            7970 non-null   int64  \n",
      " 1   name          7970 non-null   object \n",
      " 2   brewery_id    7970 non-null   int64  \n",
      " 3   state         7970 non-null   object \n",
      " 4   country       7970 non-null   object \n",
      " 5   style         7970 non-null   object \n",
      " 6   availability  7970 non-null   object \n",
      " 7   abv           6791 non-null   float64\n",
      " 8   notes         7969 non-null   object \n",
      " 9   retired       7970 non-null   object \n",
      "dtypes: float64(1), int64(2), object(7)\n",
      "memory usage: 622.8+ KB\n"
     ]
    }
   ],
   "source": [
    "df_beers_tx.info()"
   ]
  },
  {
   "cell_type": "code",
   "execution_count": 49,
   "id": "e71c1765",
   "metadata": {},
   "outputs": [
    {
     "name": "stdout",
     "output_type": "stream",
     "text": [
      "<class 'pandas.core.frame.DataFrame'>\n",
      "RangeIndex: 5477 entries, 0 to 5476\n",
      "Data columns (total 10 columns):\n",
      " #   Column        Non-Null Count  Dtype  \n",
      "---  ------        --------------  -----  \n",
      " 0   id            5477 non-null   int64  \n",
      " 1   name          5477 non-null   object \n",
      " 2   brewery_id    5477 non-null   int64  \n",
      " 3   state         5477 non-null   object \n",
      " 4   country       5477 non-null   object \n",
      " 5   style         5477 non-null   object \n",
      " 6   availability  5477 non-null   object \n",
      " 7   abv           4885 non-null   float64\n",
      " 8   notes         5477 non-null   object \n",
      " 9   retired       5477 non-null   object \n",
      "dtypes: float64(1), int64(2), object(7)\n",
      "memory usage: 428.0+ KB\n"
     ]
    }
   ],
   "source": [
    "df_beers_tx2 = df_beers_tx.loc[df_beers_tx[\"retired\"] == \"f\"].reset_index(drop=True)\n",
    "df_beers_tx2.info()"
   ]
  },
  {
   "cell_type": "code",
   "execution_count": 50,
   "id": "80a1b4f0",
   "metadata": {},
   "outputs": [
    {
     "data": {
      "text/plain": [
       " Rotating                 2166\n",
       "Rotating                  1119\n",
       " Year-round                726\n",
       "Year-round                 336\n",
       " Limited (brewed once)     321\n",
       "Limited (brewed once)      183\n",
       " Fall                      132\n",
       " Summer                    120\n",
       " Winter                    103\n",
       "Summer                      71\n",
       "Fall                        64\n",
       " Spring                     59\n",
       "Winter                      56\n",
       "Spring                      21\n",
       "Name: availability, dtype: int64"
      ]
     },
     "execution_count": 50,
     "metadata": {},
     "output_type": "execute_result"
    }
   ],
   "source": [
    "df_beers_tx2.availability.value_counts()"
   ]
  },
  {
   "cell_type": "code",
   "execution_count": 51,
   "id": "2cc92fed",
   "metadata": {},
   "outputs": [
    {
     "data": {
      "text/html": [
       "<div>\n",
       "<style scoped>\n",
       "    .dataframe tbody tr th:only-of-type {\n",
       "        vertical-align: middle;\n",
       "    }\n",
       "\n",
       "    .dataframe tbody tr th {\n",
       "        vertical-align: top;\n",
       "    }\n",
       "\n",
       "    .dataframe thead th {\n",
       "        text-align: right;\n",
       "    }\n",
       "</style>\n",
       "<table border=\"1\" class=\"dataframe\">\n",
       "  <thead>\n",
       "    <tr style=\"text-align: right;\">\n",
       "      <th></th>\n",
       "      <th>id</th>\n",
       "      <th>name</th>\n",
       "      <th>brewery_id</th>\n",
       "      <th>state</th>\n",
       "      <th>country</th>\n",
       "      <th>style</th>\n",
       "      <th>availability</th>\n",
       "      <th>abv</th>\n",
       "      <th>notes</th>\n",
       "      <th>retired</th>\n",
       "    </tr>\n",
       "  </thead>\n",
       "  <tbody>\n",
       "    <tr>\n",
       "      <th>0</th>\n",
       "      <td>172383</td>\n",
       "      <td>Session Black IPA</td>\n",
       "      <td>31066</td>\n",
       "      <td>TX</td>\n",
       "      <td>US</td>\n",
       "      <td>American Black Ale</td>\n",
       "      <td>Rotating</td>\n",
       "      <td>5.0</td>\n",
       "      <td>No notes at this time.</td>\n",
       "      <td>f</td>\n",
       "    </tr>\n",
       "    <tr>\n",
       "      <th>1</th>\n",
       "      <td>328472</td>\n",
       "      <td>End of The Line - Simcoe IPA</td>\n",
       "      <td>33820</td>\n",
       "      <td>TX</td>\n",
       "      <td>US</td>\n",
       "      <td>American IPA</td>\n",
       "      <td>Rotating</td>\n",
       "      <td>6.5</td>\n",
       "      <td>No notes at this time.</td>\n",
       "      <td>f</td>\n",
       "    </tr>\n",
       "    <tr>\n",
       "      <th>2</th>\n",
       "      <td>161903</td>\n",
       "      <td>Calypso</td>\n",
       "      <td>25622</td>\n",
       "      <td>TX</td>\n",
       "      <td>US</td>\n",
       "      <td>American IPA</td>\n",
       "      <td>Rotating</td>\n",
       "      <td>6.1</td>\n",
       "      <td>No notes at this time.</td>\n",
       "      <td>f</td>\n",
       "    </tr>\n",
       "    <tr>\n",
       "      <th>3</th>\n",
       "      <td>163158</td>\n",
       "      <td>Tart</td>\n",
       "      <td>39455</td>\n",
       "      <td>TX</td>\n",
       "      <td>US</td>\n",
       "      <td>Fruit and Field Beer</td>\n",
       "      <td>Rotating</td>\n",
       "      <td>5.0</td>\n",
       "      <td>No notes at this time.</td>\n",
       "      <td>f</td>\n",
       "    </tr>\n",
       "    <tr>\n",
       "      <th>4</th>\n",
       "      <td>341546</td>\n",
       "      <td>Reality Bath</td>\n",
       "      <td>43007</td>\n",
       "      <td>TX</td>\n",
       "      <td>US</td>\n",
       "      <td>American Imperial IPA</td>\n",
       "      <td>Rotating</td>\n",
       "      <td>9.4</td>\n",
       "      <td>No notes at this time.</td>\n",
       "      <td>f</td>\n",
       "    </tr>\n",
       "    <tr>\n",
       "      <th>...</th>\n",
       "      <td>...</td>\n",
       "      <td>...</td>\n",
       "      <td>...</td>\n",
       "      <td>...</td>\n",
       "      <td>...</td>\n",
       "      <td>...</td>\n",
       "      <td>...</td>\n",
       "      <td>...</td>\n",
       "      <td>...</td>\n",
       "      <td>...</td>\n",
       "    </tr>\n",
       "    <tr>\n",
       "      <th>3871</th>\n",
       "      <td>117254</td>\n",
       "      <td>Monstre Du Bocage</td>\n",
       "      <td>25628</td>\n",
       "      <td>TX</td>\n",
       "      <td>US</td>\n",
       "      <td>Belgian IPA</td>\n",
       "      <td>Rotating</td>\n",
       "      <td>8.0</td>\n",
       "      <td>No notes at this time.</td>\n",
       "      <td>f</td>\n",
       "    </tr>\n",
       "    <tr>\n",
       "      <th>3872</th>\n",
       "      <td>308922</td>\n",
       "      <td>Geistbier</td>\n",
       "      <td>39446</td>\n",
       "      <td>TX</td>\n",
       "      <td>US</td>\n",
       "      <td>German Altbier</td>\n",
       "      <td>Rotating</td>\n",
       "      <td>8.7</td>\n",
       "      <td>No notes at this time.</td>\n",
       "      <td>f</td>\n",
       "    </tr>\n",
       "    <tr>\n",
       "      <th>3943</th>\n",
       "      <td>340677</td>\n",
       "      <td>Gaspipes</td>\n",
       "      <td>51901</td>\n",
       "      <td>TX</td>\n",
       "      <td>US</td>\n",
       "      <td>English Bitter</td>\n",
       "      <td>Rotating</td>\n",
       "      <td>3.9</td>\n",
       "      <td>No notes at this time.</td>\n",
       "      <td>f</td>\n",
       "    </tr>\n",
       "    <tr>\n",
       "      <th>3944</th>\n",
       "      <td>282562</td>\n",
       "      <td>Mother Pecan</td>\n",
       "      <td>35323</td>\n",
       "      <td>TX</td>\n",
       "      <td>US</td>\n",
       "      <td>American Porter</td>\n",
       "      <td>Rotating</td>\n",
       "      <td>4.7</td>\n",
       "      <td>No notes at this time.</td>\n",
       "      <td>f</td>\n",
       "    </tr>\n",
       "    <tr>\n",
       "      <th>3945</th>\n",
       "      <td>327525</td>\n",
       "      <td>Barrel Aged Imperial Machinegun Stout</td>\n",
       "      <td>48143</td>\n",
       "      <td>TX</td>\n",
       "      <td>US</td>\n",
       "      <td>American Imperial Stout</td>\n",
       "      <td>Rotating</td>\n",
       "      <td>11.5</td>\n",
       "      <td>No notes at this time.</td>\n",
       "      <td>f</td>\n",
       "    </tr>\n",
       "  </tbody>\n",
       "</table>\n",
       "<p>2166 rows × 10 columns</p>\n",
       "</div>"
      ],
      "text/plain": [
       "          id                                   name  brewery_id state country  \\\n",
       "0     172383                      Session Black IPA       31066    TX      US   \n",
       "1     328472           End of The Line - Simcoe IPA       33820    TX      US   \n",
       "2     161903                                Calypso       25622    TX      US   \n",
       "3     163158                                   Tart       39455    TX      US   \n",
       "4     341546                           Reality Bath       43007    TX      US   \n",
       "...      ...                                    ...         ...   ...     ...   \n",
       "3871  117254                      Monstre Du Bocage       25628    TX      US   \n",
       "3872  308922                              Geistbier       39446    TX      US   \n",
       "3943  340677                               Gaspipes       51901    TX      US   \n",
       "3944  282562                           Mother Pecan       35323    TX      US   \n",
       "3945  327525  Barrel Aged Imperial Machinegun Stout       48143    TX      US   \n",
       "\n",
       "                        style availability   abv                   notes  \\\n",
       "0          American Black Ale     Rotating   5.0  No notes at this time.   \n",
       "1                American IPA     Rotating   6.5  No notes at this time.   \n",
       "2                American IPA     Rotating   6.1  No notes at this time.   \n",
       "3        Fruit and Field Beer     Rotating   5.0  No notes at this time.   \n",
       "4       American Imperial IPA     Rotating   9.4  No notes at this time.   \n",
       "...                       ...          ...   ...                     ...   \n",
       "3871              Belgian IPA     Rotating   8.0  No notes at this time.   \n",
       "3872           German Altbier     Rotating   8.7  No notes at this time.   \n",
       "3943           English Bitter     Rotating   3.9  No notes at this time.   \n",
       "3944          American Porter     Rotating   4.7  No notes at this time.   \n",
       "3945  American Imperial Stout     Rotating  11.5  No notes at this time.   \n",
       "\n",
       "     retired  \n",
       "0          f  \n",
       "1          f  \n",
       "2          f  \n",
       "3          f  \n",
       "4          f  \n",
       "...      ...  \n",
       "3871       f  \n",
       "3872       f  \n",
       "3943       f  \n",
       "3944       f  \n",
       "3945       f  \n",
       "\n",
       "[2166 rows x 10 columns]"
      ]
     },
     "execution_count": 51,
     "metadata": {},
     "output_type": "execute_result"
    }
   ],
   "source": [
    "df_beers_tx2.loc[df_beers_tx2[\"availability\"] == \" Rotating\"]"
   ]
  },
  {
   "cell_type": "code",
   "execution_count": 52,
   "id": "45117cd0",
   "metadata": {},
   "outputs": [
    {
     "data": {
      "text/plain": [
       "Rotating                 3285\n",
       "Year-round               1062\n",
       "Limited (brewed once)     504\n",
       "Fall                      196\n",
       "Summer                    191\n",
       "Winter                    159\n",
       "Spring                     80\n",
       "Name: availability, dtype: int64"
      ]
     },
     "execution_count": 52,
     "metadata": {},
     "output_type": "execute_result"
    }
   ],
   "source": [
    "df_beers_tx2['availability'] = df_beers_tx2['availability'].replace(' Rotating', 'Rotating')\n",
    "df_beers_tx2['availability'] = df_beers_tx2['availability'].replace(' Year-round', 'Year-round')\n",
    "df_beers_tx2['availability'] = df_beers_tx2['availability'].replace(' Limited (brewed once)', 'Limited (brewed once)')\n",
    "df_beers_tx2['availability'] = df_beers_tx2['availability'].replace(' Fall', 'Fall')\n",
    "df_beers_tx2['availability'] = df_beers_tx2['availability'].replace(' Summer', 'Summer')\n",
    "df_beers_tx2['availability'] = df_beers_tx2['availability'].replace(' Winter', 'Winter')\n",
    "df_beers_tx2['availability'] = df_beers_tx2['availability'].replace(' Spring', 'Spring')\n",
    "df_beers_tx2.availability.value_counts()"
   ]
  },
  {
   "cell_type": "code",
   "execution_count": 53,
   "id": "64c9a2be",
   "metadata": {},
   "outputs": [
    {
     "data": {
      "text/plain": [
       "No notes at this time.                                                                                                                                                                                                                                                                                                                                                                                                                                                                                                                                                                                                                                                                                                                                                                                                                                                                                                                                 4943\n",
       "Gluten-free                                                                                                                                                                                                                                                                                                                                                                                                                                                                                                                                                                                                                                                                                                                                                                                                                                                                                                                                               2\n",
       "This inky Imperial Stout pours black into the glass with a brown head. Aroma of roasted grain with a slight hint of licorice. Full bodied with plenty of dark chocolate flavor leads into a long, smooth finish.                                                                                                                                                                                                                                                                                                                                                                                                                                                                                                                                                                                                                                                                                                                                          1\n",
       "Gose is a rarely brewed regional specialty beer from Northern Germany. A slightly sour wheat beer, it's known for hints of coriander and a unique saltiness that is derived from the local water source. As a twist on the original, we add fresh lime juice to our version after fermentation. The result is a delightfully tart and refreshing beer to help you slug it out with even the hottest of Texas summers.                                                                                                                                                                                                                                                                                                                                                                                                                                                                                                                                     1\n",
       "Our house specialty brew unites our two in house features, fresh roasted coffee and great craft beer. Brewed with six specialty malts and a light touch of lactose sugar at the end of the boil, our House United Stout is a rich, complex beer with a subtle sweetness and a big coffee nose and finish. We carbonate this one with a special gas blend that gives House United Stout a decadent velvety texture.                                                                                                                                                                                                                                                                                                                                                                                                                                                                                                                                        1\n",
       "                                                                                                                                                                                                                                                                                                                                                                                                                                                                                                                                                                                                                                                                                                                                                                                                                                                                                                                                                       ... \n",
       "The folks at \"the little brewery\" in Shiner, TX (pop. 2,069), are proud of this refreshing, 99-calorie addition to the Spoetzl family of beers. It's brewed with the same handcrafted, small-batch pride you expect from Shiner, delivering a unique light beer. So when you're looking for a smooth, easy-drinking brew, pick up an ice-cold Shiner Light Blonde. It's light done right. PROSIT!                                                                                                                                                                                                                                                                                                                                                                                                                                                                                                                                                         1\n",
       "Hopped with Centennial, Simcoe, Galena, Columbus                                                                                                                                                                                                                                                                                                                                                                                                                                                                                                                                                                                                                                                                                                                                                                                                                                                                                                          1\n",
       "Named for White Rock Lake and the cyclists who loop it, Rock Ryder is a refreshing, crowd-pleasing, session beer. But just because it's easy drinking doesn't mean it's got training wheels. With peppery notes from rye malt, a citrusy aroma and dry finish, our American Rye Wheat pulls ahead of the pack. And we're proud to donate a portion of the proceeds of Rock Ryder to For The Love of the Lake, a community organization that volunteers their time keeping our little oasis in the city sparkling. So sit back and enjoy the Ryde.                                                                                                                                                                                                                                                                                                                                                                                                         1\n",
       "American wheat ale, spiced with lemon grass, grains of paradise, and bitter orange peel. elba is the first member-owner designed Black Star Co-op beer                                                                                                                                                                                                                                                                                                                                                                                                                                                                                                                                                                                                                                                                                                                                                                                                    1\n",
       "Three Houston artisans combined their powers into one beverage! Houston Triple Craft is a Smoked Coffee Marzen brewed by Holler Brewing in collaboration with Greenway Coffee & Tea and Feges BBQ. Patrick Feges used a blend of Applewood and Maplewood to slowly smoke smoke 100 pounds of German pilsner malt. John Holler combined this smoky grain with a blend of light and dark Munich malts and a touch of Noble German hops to produce a smoked Marzen (aka a smoked Oktoberfest). Everyone agreed it was a delicious beverage but that it lacked a critical component: caffeine. Enter David Buehrer (Greenway), who used freshly roasted Brazil pulp-natural coffee beans to produce a double-filtered espresso that really ties the beer together.The result is a truly unique and surprisingly drinkable lager, featuring a rich, chocolatey espresso aroma, a complex malty flavor with a hint of vanilla, and a smoky, crisp finish.       1\n",
       "Name: notes, Length: 534, dtype: int64"
      ]
     },
     "execution_count": 53,
     "metadata": {},
     "output_type": "execute_result"
    }
   ],
   "source": [
    "df_beers_tx2.notes.value_counts()"
   ]
  },
  {
   "cell_type": "code",
   "execution_count": 54,
   "id": "4e1ad742",
   "metadata": {},
   "outputs": [],
   "source": [
    "df_beers_tx2 = df_beers_tx2.drop('notes', axis=1).reset_index(drop=True)"
   ]
  },
  {
   "cell_type": "code",
   "execution_count": 55,
   "id": "3559cdcc",
   "metadata": {},
   "outputs": [],
   "source": [
    "df_beers_tx2 = df_beers_tx2.drop('state', axis=1)"
   ]
  },
  {
   "cell_type": "code",
   "execution_count": 56,
   "id": "9d804876",
   "metadata": {},
   "outputs": [],
   "source": [
    "df_beers_tx2 = df_beers_tx2.drop('country', axis=1)"
   ]
  },
  {
   "cell_type": "code",
   "execution_count": 57,
   "id": "fad6c7c5",
   "metadata": {},
   "outputs": [],
   "source": [
    "df_beers_tx2 = df_beers_tx2.drop('retired', axis=1)"
   ]
  },
  {
   "cell_type": "code",
   "execution_count": 58,
   "id": "a7df6aee",
   "metadata": {},
   "outputs": [
    {
     "data": {
      "text/html": [
       "<div>\n",
       "<style scoped>\n",
       "    .dataframe tbody tr th:only-of-type {\n",
       "        vertical-align: middle;\n",
       "    }\n",
       "\n",
       "    .dataframe tbody tr th {\n",
       "        vertical-align: top;\n",
       "    }\n",
       "\n",
       "    .dataframe thead th {\n",
       "        text-align: right;\n",
       "    }\n",
       "</style>\n",
       "<table border=\"1\" class=\"dataframe\">\n",
       "  <thead>\n",
       "    <tr style=\"text-align: right;\">\n",
       "      <th></th>\n",
       "      <th>id</th>\n",
       "      <th>name</th>\n",
       "      <th>brewery_id</th>\n",
       "      <th>style</th>\n",
       "      <th>availability</th>\n",
       "      <th>abv</th>\n",
       "    </tr>\n",
       "  </thead>\n",
       "  <tbody>\n",
       "    <tr>\n",
       "      <th>0</th>\n",
       "      <td>172383</td>\n",
       "      <td>Session Black IPA</td>\n",
       "      <td>31066</td>\n",
       "      <td>American Black Ale</td>\n",
       "      <td>Rotating</td>\n",
       "      <td>5.0</td>\n",
       "    </tr>\n",
       "    <tr>\n",
       "      <th>1</th>\n",
       "      <td>328472</td>\n",
       "      <td>End of The Line - Simcoe IPA</td>\n",
       "      <td>33820</td>\n",
       "      <td>American IPA</td>\n",
       "      <td>Rotating</td>\n",
       "      <td>6.5</td>\n",
       "    </tr>\n",
       "    <tr>\n",
       "      <th>2</th>\n",
       "      <td>161903</td>\n",
       "      <td>Calypso</td>\n",
       "      <td>25622</td>\n",
       "      <td>American IPA</td>\n",
       "      <td>Rotating</td>\n",
       "      <td>6.1</td>\n",
       "    </tr>\n",
       "    <tr>\n",
       "      <th>3</th>\n",
       "      <td>163158</td>\n",
       "      <td>Tart</td>\n",
       "      <td>39455</td>\n",
       "      <td>Fruit and Field Beer</td>\n",
       "      <td>Rotating</td>\n",
       "      <td>5.0</td>\n",
       "    </tr>\n",
       "    <tr>\n",
       "      <th>4</th>\n",
       "      <td>341546</td>\n",
       "      <td>Reality Bath</td>\n",
       "      <td>43007</td>\n",
       "      <td>American Imperial IPA</td>\n",
       "      <td>Rotating</td>\n",
       "      <td>9.4</td>\n",
       "    </tr>\n",
       "    <tr>\n",
       "      <th>...</th>\n",
       "      <td>...</td>\n",
       "      <td>...</td>\n",
       "      <td>...</td>\n",
       "      <td>...</td>\n",
       "      <td>...</td>\n",
       "      <td>...</td>\n",
       "    </tr>\n",
       "    <tr>\n",
       "      <th>5472</th>\n",
       "      <td>341943</td>\n",
       "      <td>Pew Pew</td>\n",
       "      <td>47537</td>\n",
       "      <td>American Pale Ale (APA)</td>\n",
       "      <td>Rotating</td>\n",
       "      <td>5.0</td>\n",
       "    </tr>\n",
       "    <tr>\n",
       "      <th>5473</th>\n",
       "      <td>268664</td>\n",
       "      <td>Fat Pumpkin</td>\n",
       "      <td>2642</td>\n",
       "      <td>Pumpkin Beer</td>\n",
       "      <td>Winter</td>\n",
       "      <td>6.2</td>\n",
       "    </tr>\n",
       "    <tr>\n",
       "      <th>5474</th>\n",
       "      <td>143574</td>\n",
       "      <td>Dark Side Of The Hop</td>\n",
       "      <td>23672</td>\n",
       "      <td>American Black Ale</td>\n",
       "      <td>Fall</td>\n",
       "      <td>NaN</td>\n",
       "    </tr>\n",
       "    <tr>\n",
       "      <th>5475</th>\n",
       "      <td>272088</td>\n",
       "      <td>Brewer's Reserve Imperial Red IPA</td>\n",
       "      <td>33438</td>\n",
       "      <td>American Imperial IPA</td>\n",
       "      <td>Rotating</td>\n",
       "      <td>8.7</td>\n",
       "    </tr>\n",
       "    <tr>\n",
       "      <th>5476</th>\n",
       "      <td>314355</td>\n",
       "      <td>Bull Pine Pale Ale</td>\n",
       "      <td>48529</td>\n",
       "      <td>American Pale Ale (APA)</td>\n",
       "      <td>Year-round</td>\n",
       "      <td>6.3</td>\n",
       "    </tr>\n",
       "  </tbody>\n",
       "</table>\n",
       "<p>5477 rows × 6 columns</p>\n",
       "</div>"
      ],
      "text/plain": [
       "          id                               name  brewery_id  \\\n",
       "0     172383                  Session Black IPA       31066   \n",
       "1     328472       End of The Line - Simcoe IPA       33820   \n",
       "2     161903                            Calypso       25622   \n",
       "3     163158                               Tart       39455   \n",
       "4     341546                       Reality Bath       43007   \n",
       "...      ...                                ...         ...   \n",
       "5472  341943                            Pew Pew       47537   \n",
       "5473  268664                        Fat Pumpkin        2642   \n",
       "5474  143574               Dark Side Of The Hop       23672   \n",
       "5475  272088  Brewer's Reserve Imperial Red IPA       33438   \n",
       "5476  314355                 Bull Pine Pale Ale       48529   \n",
       "\n",
       "                        style availability  abv  \n",
       "0          American Black Ale     Rotating  5.0  \n",
       "1                American IPA     Rotating  6.5  \n",
       "2                American IPA     Rotating  6.1  \n",
       "3        Fruit and Field Beer     Rotating  5.0  \n",
       "4       American Imperial IPA     Rotating  9.4  \n",
       "...                       ...          ...  ...  \n",
       "5472  American Pale Ale (APA)     Rotating  5.0  \n",
       "5473             Pumpkin Beer       Winter  6.2  \n",
       "5474       American Black Ale         Fall  NaN  \n",
       "5475    American Imperial IPA     Rotating  8.7  \n",
       "5476  American Pale Ale (APA)   Year-round  6.3  \n",
       "\n",
       "[5477 rows x 6 columns]"
      ]
     },
     "execution_count": 58,
     "metadata": {},
     "output_type": "execute_result"
    }
   ],
   "source": [
    "df_beers_tx2"
   ]
  },
  {
   "cell_type": "code",
   "execution_count": 59,
   "id": "eb142a20",
   "metadata": {},
   "outputs": [
    {
     "name": "stdout",
     "output_type": "stream",
     "text": [
      "<class 'pandas.core.frame.DataFrame'>\n",
      "RangeIndex: 5477 entries, 0 to 5476\n",
      "Data columns (total 6 columns):\n",
      " #   Column        Non-Null Count  Dtype  \n",
      "---  ------        --------------  -----  \n",
      " 0   id            5477 non-null   int64  \n",
      " 1   name          5477 non-null   object \n",
      " 2   brewery_id    5477 non-null   int64  \n",
      " 3   style         5477 non-null   object \n",
      " 4   availability  5477 non-null   object \n",
      " 5   abv           4885 non-null   float64\n",
      "dtypes: float64(1), int64(2), object(3)\n",
      "memory usage: 256.9+ KB\n"
     ]
    }
   ],
   "source": [
    "df_beers_tx2.info()"
   ]
  },
  {
   "cell_type": "code",
   "execution_count": 60,
   "id": "214543a3",
   "metadata": {},
   "outputs": [
    {
     "name": "stdout",
     "output_type": "stream",
     "text": [
      "<class 'pandas.core.frame.DataFrame'>\n",
      "RangeIndex: 4885 entries, 0 to 4884\n",
      "Data columns (total 6 columns):\n",
      " #   Column        Non-Null Count  Dtype  \n",
      "---  ------        --------------  -----  \n",
      " 0   id            4885 non-null   int64  \n",
      " 1   name          4885 non-null   object \n",
      " 2   brewery_id    4885 non-null   int64  \n",
      " 3   style         4885 non-null   object \n",
      " 4   availability  4885 non-null   object \n",
      " 5   abv           4885 non-null   float64\n",
      "dtypes: float64(1), int64(2), object(3)\n",
      "memory usage: 229.1+ KB\n"
     ]
    }
   ],
   "source": [
    "df_beers_tx2 = df_beers_tx2.loc[df_beers_tx2[\"abv\"] > 0].reset_index(drop=True)\n",
    "df_beers_tx2.info()"
   ]
  },
  {
   "cell_type": "code",
   "execution_count": 61,
   "id": "feefc63d",
   "metadata": {},
   "outputs": [
    {
     "data": {
      "text/plain": [
       "count    4885.000000\n",
       "mean        6.581771\n",
       "std         1.889594\n",
       "min         0.500000\n",
       "25%         5.300000\n",
       "50%         6.100000\n",
       "75%         7.500000\n",
       "max        16.700000\n",
       "Name: abv, dtype: float64"
      ]
     },
     "execution_count": 61,
     "metadata": {},
     "output_type": "execute_result"
    }
   ],
   "source": [
    "df_beers_tx2.abv.describe()"
   ]
  },
  {
   "cell_type": "code",
   "execution_count": 63,
   "id": "1f8500de",
   "metadata": {},
   "outputs": [],
   "source": [
    "beer_ids = df_beers_tx2.id.tolist()"
   ]
  },
  {
   "cell_type": "code",
   "execution_count": 62,
   "id": "75343451",
   "metadata": {},
   "outputs": [
    {
     "name": "stdout",
     "output_type": "stream",
     "text": [
      "<class 'pandas.core.frame.DataFrame'>\n",
      "RangeIndex: 9073128 entries, 0 to 9073127\n",
      "Data columns (total 10 columns):\n",
      " #   Column    Dtype  \n",
      "---  ------    -----  \n",
      " 0   beer_id   int64  \n",
      " 1   username  object \n",
      " 2   date      object \n",
      " 3   text      object \n",
      " 4   look      float64\n",
      " 5   smell     float64\n",
      " 6   taste     float64\n",
      " 7   feel      float64\n",
      " 8   overall   float64\n",
      " 9   score     float64\n",
      "dtypes: float64(6), int64(1), object(3)\n",
      "memory usage: 692.2+ MB\n"
     ]
    }
   ],
   "source": [
    "df_reviews = pd.read_csv(\"Resources/Original/reviews.csv\")\n",
    "df_reviews.info()"
   ]
  },
  {
   "cell_type": "code",
   "execution_count": 64,
   "id": "e4e0b42d",
   "metadata": {},
   "outputs": [
    {
     "name": "stdout",
     "output_type": "stream",
     "text": [
      "<class 'pandas.core.frame.DataFrame'>\n",
      "RangeIndex: 133875 entries, 0 to 133874\n",
      "Data columns (total 10 columns):\n",
      " #   Column    Non-Null Count   Dtype  \n",
      "---  ------    --------------   -----  \n",
      " 0   beer_id   133875 non-null  int64  \n",
      " 1   username  133804 non-null  object \n",
      " 2   date      133875 non-null  object \n",
      " 3   text      133875 non-null  object \n",
      " 4   look      75417 non-null   float64\n",
      " 5   smell     75417 non-null   float64\n",
      " 6   taste     75417 non-null   float64\n",
      " 7   feel      75417 non-null   float64\n",
      " 8   overall   75417 non-null   float64\n",
      " 9   score     133875 non-null  float64\n",
      "dtypes: float64(6), int64(1), object(3)\n",
      "memory usage: 10.2+ MB\n"
     ]
    }
   ],
   "source": [
    "df_reviews_tx = df_reviews[df_reviews['beer_id'].isin(beer_ids)].reset_index(drop=True)\n",
    "df_reviews_tx.info()"
   ]
  },
  {
   "cell_type": "code",
   "execution_count": 65,
   "id": "085cda71",
   "metadata": {},
   "outputs": [
    {
     "data": {
      "text/html": [
       "<div>\n",
       "<style scoped>\n",
       "    .dataframe tbody tr th:only-of-type {\n",
       "        vertical-align: middle;\n",
       "    }\n",
       "\n",
       "    .dataframe tbody tr th {\n",
       "        vertical-align: top;\n",
       "    }\n",
       "\n",
       "    .dataframe thead th {\n",
       "        text-align: right;\n",
       "    }\n",
       "</style>\n",
       "<table border=\"1\" class=\"dataframe\">\n",
       "  <thead>\n",
       "    <tr style=\"text-align: right;\">\n",
       "      <th></th>\n",
       "      <th>beer_id</th>\n",
       "      <th>username</th>\n",
       "      <th>date</th>\n",
       "      <th>text</th>\n",
       "      <th>look</th>\n",
       "      <th>smell</th>\n",
       "      <th>taste</th>\n",
       "      <th>feel</th>\n",
       "      <th>overall</th>\n",
       "      <th>score</th>\n",
       "    </tr>\n",
       "  </thead>\n",
       "  <tbody>\n",
       "    <tr>\n",
       "      <th>0</th>\n",
       "      <td>203086</td>\n",
       "      <td>kjkinsey</td>\n",
       "      <td>2017-01-21</td>\n",
       "      <td></td>\n",
       "      <td>3.50</td>\n",
       "      <td>3.50</td>\n",
       "      <td>3.00</td>\n",
       "      <td>3.50</td>\n",
       "      <td>3.25</td>\n",
       "      <td>3.25</td>\n",
       "    </tr>\n",
       "    <tr>\n",
       "      <th>1</th>\n",
       "      <td>203086</td>\n",
       "      <td>Dface</td>\n",
       "      <td>2016-09-23</td>\n",
       "      <td></td>\n",
       "      <td>2.75</td>\n",
       "      <td>2.75</td>\n",
       "      <td>2.75</td>\n",
       "      <td>2.75</td>\n",
       "      <td>2.75</td>\n",
       "      <td>2.75</td>\n",
       "    </tr>\n",
       "    <tr>\n",
       "      <th>2</th>\n",
       "      <td>203086</td>\n",
       "      <td>zbooks</td>\n",
       "      <td>2016-08-15</td>\n",
       "      <td></td>\n",
       "      <td>3.00</td>\n",
       "      <td>3.00</td>\n",
       "      <td>3.00</td>\n",
       "      <td>3.00</td>\n",
       "      <td>3.00</td>\n",
       "      <td>3.00</td>\n",
       "    </tr>\n",
       "    <tr>\n",
       "      <th>3</th>\n",
       "      <td>203086</td>\n",
       "      <td>NeverSettle</td>\n",
       "      <td>2016-08-13</td>\n",
       "      <td></td>\n",
       "      <td>3.00</td>\n",
       "      <td>3.00</td>\n",
       "      <td>2.75</td>\n",
       "      <td>2.75</td>\n",
       "      <td>2.75</td>\n",
       "      <td>2.83</td>\n",
       "    </tr>\n",
       "    <tr>\n",
       "      <th>4</th>\n",
       "      <td>203086</td>\n",
       "      <td>ovaltine</td>\n",
       "      <td>2016-06-29</td>\n",
       "      <td></td>\n",
       "      <td>4.00</td>\n",
       "      <td>3.50</td>\n",
       "      <td>3.75</td>\n",
       "      <td>3.75</td>\n",
       "      <td>3.75</td>\n",
       "      <td>3.71</td>\n",
       "    </tr>\n",
       "    <tr>\n",
       "      <th>5</th>\n",
       "      <td>203086</td>\n",
       "      <td>Texasfan549</td>\n",
       "      <td>2016-04-26</td>\n",
       "      <td></td>\n",
       "      <td>3.25</td>\n",
       "      <td>3.25</td>\n",
       "      <td>3.25</td>\n",
       "      <td>3.25</td>\n",
       "      <td>3.25</td>\n",
       "      <td>3.25</td>\n",
       "    </tr>\n",
       "    <tr>\n",
       "      <th>6</th>\n",
       "      <td>203086</td>\n",
       "      <td>Bryan12345</td>\n",
       "      <td>2016-04-23</td>\n",
       "      <td></td>\n",
       "      <td>2.75</td>\n",
       "      <td>2.75</td>\n",
       "      <td>2.75</td>\n",
       "      <td>2.75</td>\n",
       "      <td>2.75</td>\n",
       "      <td>2.75</td>\n",
       "    </tr>\n",
       "    <tr>\n",
       "      <th>7</th>\n",
       "      <td>203086</td>\n",
       "      <td>donspublic</td>\n",
       "      <td>2016-04-15</td>\n",
       "      <td></td>\n",
       "      <td>4.00</td>\n",
       "      <td>3.75</td>\n",
       "      <td>3.50</td>\n",
       "      <td>3.50</td>\n",
       "      <td>3.50</td>\n",
       "      <td>3.59</td>\n",
       "    </tr>\n",
       "    <tr>\n",
       "      <th>8</th>\n",
       "      <td>203086</td>\n",
       "      <td>greenspointexas</td>\n",
       "      <td>2016-04-10</td>\n",
       "      <td></td>\n",
       "      <td>3.50</td>\n",
       "      <td>3.25</td>\n",
       "      <td>3.50</td>\n",
       "      <td>3.50</td>\n",
       "      <td>3.25</td>\n",
       "      <td>3.39</td>\n",
       "    </tr>\n",
       "    <tr>\n",
       "      <th>9</th>\n",
       "      <td>203086</td>\n",
       "      <td>Pro_Magnon</td>\n",
       "      <td>2016-03-20</td>\n",
       "      <td></td>\n",
       "      <td>3.75</td>\n",
       "      <td>4.25</td>\n",
       "      <td>4.00</td>\n",
       "      <td>3.75</td>\n",
       "      <td>4.00</td>\n",
       "      <td>4.02</td>\n",
       "    </tr>\n",
       "    <tr>\n",
       "      <th>10</th>\n",
       "      <td>203086</td>\n",
       "      <td>ilikebeer03</td>\n",
       "      <td>2016-01-10</td>\n",
       "      <td></td>\n",
       "      <td>3.00</td>\n",
       "      <td>3.25</td>\n",
       "      <td>3.25</td>\n",
       "      <td>3.25</td>\n",
       "      <td>3.25</td>\n",
       "      <td>3.24</td>\n",
       "    </tr>\n",
       "    <tr>\n",
       "      <th>11</th>\n",
       "      <td>203086</td>\n",
       "      <td>Gagnonsux</td>\n",
       "      <td>2016-01-02</td>\n",
       "      <td></td>\n",
       "      <td>3.75</td>\n",
       "      <td>3.75</td>\n",
       "      <td>4.00</td>\n",
       "      <td>4.00</td>\n",
       "      <td>4.00</td>\n",
       "      <td>3.93</td>\n",
       "    </tr>\n",
       "    <tr>\n",
       "      <th>12</th>\n",
       "      <td>203086</td>\n",
       "      <td>champ103</td>\n",
       "      <td>2015-12-06</td>\n",
       "      <td>On tap at the brewery A: Pours a hazed, clo...</td>\n",
       "      <td>3.00</td>\n",
       "      <td>3.50</td>\n",
       "      <td>3.25</td>\n",
       "      <td>3.25</td>\n",
       "      <td>3.50</td>\n",
       "      <td>3.35</td>\n",
       "    </tr>\n",
       "    <tr>\n",
       "      <th>13</th>\n",
       "      <td>265102</td>\n",
       "      <td>StonedTrippin</td>\n",
       "      <td>2018-09-02</td>\n",
       "      <td>calling this a blonde ale is a stretch, or ...</td>\n",
       "      <td>3.50</td>\n",
       "      <td>3.50</td>\n",
       "      <td>3.75</td>\n",
       "      <td>3.75</td>\n",
       "      <td>3.50</td>\n",
       "      <td>3.63</td>\n",
       "    </tr>\n",
       "    <tr>\n",
       "      <th>14</th>\n",
       "      <td>265102</td>\n",
       "      <td>Gagnonsux</td>\n",
       "      <td>2017-05-09</td>\n",
       "      <td></td>\n",
       "      <td>3.50</td>\n",
       "      <td>3.50</td>\n",
       "      <td>3.75</td>\n",
       "      <td>4.00</td>\n",
       "      <td>3.75</td>\n",
       "      <td>3.70</td>\n",
       "    </tr>\n",
       "    <tr>\n",
       "      <th>15</th>\n",
       "      <td>265102</td>\n",
       "      <td>Karibourgeois</td>\n",
       "      <td>2017-01-23</td>\n",
       "      <td></td>\n",
       "      <td>3.00</td>\n",
       "      <td>3.00</td>\n",
       "      <td>3.00</td>\n",
       "      <td>3.00</td>\n",
       "      <td>3.00</td>\n",
       "      <td>3.00</td>\n",
       "    </tr>\n",
       "    <tr>\n",
       "      <th>16</th>\n",
       "      <td>279957</td>\n",
       "      <td>Nick4444</td>\n",
       "      <td>2018-09-09</td>\n",
       "      <td></td>\n",
       "      <td>4.00</td>\n",
       "      <td>4.00</td>\n",
       "      <td>4.00</td>\n",
       "      <td>4.00</td>\n",
       "      <td>4.00</td>\n",
       "      <td>4.00</td>\n",
       "    </tr>\n",
       "    <tr>\n",
       "      <th>17</th>\n",
       "      <td>279957</td>\n",
       "      <td>zonker17</td>\n",
       "      <td>2018-06-12</td>\n",
       "      <td>Draft pour to snifter, very dark brown with...</td>\n",
       "      <td>4.25</td>\n",
       "      <td>4.00</td>\n",
       "      <td>3.75</td>\n",
       "      <td>4.25</td>\n",
       "      <td>3.75</td>\n",
       "      <td>3.89</td>\n",
       "    </tr>\n",
       "    <tr>\n",
       "      <th>18</th>\n",
       "      <td>279957</td>\n",
       "      <td>rodmanfor3</td>\n",
       "      <td>2018-05-20</td>\n",
       "      <td></td>\n",
       "      <td>4.00</td>\n",
       "      <td>4.00</td>\n",
       "      <td>4.00</td>\n",
       "      <td>4.00</td>\n",
       "      <td>4.00</td>\n",
       "      <td>4.00</td>\n",
       "    </tr>\n",
       "    <tr>\n",
       "      <th>19</th>\n",
       "      <td>279957</td>\n",
       "      <td>WDJersey</td>\n",
       "      <td>2018-05-14</td>\n",
       "      <td></td>\n",
       "      <td>4.25</td>\n",
       "      <td>4.00</td>\n",
       "      <td>4.00</td>\n",
       "      <td>4.00</td>\n",
       "      <td>4.00</td>\n",
       "      <td>4.02</td>\n",
       "    </tr>\n",
       "  </tbody>\n",
       "</table>\n",
       "</div>"
      ],
      "text/plain": [
       "    beer_id         username        date  \\\n",
       "0    203086         kjkinsey  2017-01-21   \n",
       "1    203086            Dface  2016-09-23   \n",
       "2    203086           zbooks  2016-08-15   \n",
       "3    203086      NeverSettle  2016-08-13   \n",
       "4    203086         ovaltine  2016-06-29   \n",
       "5    203086      Texasfan549  2016-04-26   \n",
       "6    203086       Bryan12345  2016-04-23   \n",
       "7    203086       donspublic  2016-04-15   \n",
       "8    203086  greenspointexas  2016-04-10   \n",
       "9    203086       Pro_Magnon  2016-03-20   \n",
       "10   203086      ilikebeer03  2016-01-10   \n",
       "11   203086        Gagnonsux  2016-01-02   \n",
       "12   203086         champ103  2015-12-06   \n",
       "13   265102    StonedTrippin  2018-09-02   \n",
       "14   265102        Gagnonsux  2017-05-09   \n",
       "15   265102    Karibourgeois  2017-01-23   \n",
       "16   279957         Nick4444  2018-09-09   \n",
       "17   279957         zonker17  2018-06-12   \n",
       "18   279957       rodmanfor3  2018-05-20   \n",
       "19   279957         WDJersey  2018-05-14   \n",
       "\n",
       "                                                 text  look  smell  taste  \\\n",
       "0                                                      3.50   3.50   3.00   \n",
       "1                                                      2.75   2.75   2.75   \n",
       "2                                                      3.00   3.00   3.00   \n",
       "3                                                      3.00   3.00   2.75   \n",
       "4                                                      4.00   3.50   3.75   \n",
       "5                                                      3.25   3.25   3.25   \n",
       "6                                                      2.75   2.75   2.75   \n",
       "7                                                      4.00   3.75   3.50   \n",
       "8                                                      3.50   3.25   3.50   \n",
       "9                                                      3.75   4.25   4.00   \n",
       "10                                                     3.00   3.25   3.25   \n",
       "11                                                     3.75   3.75   4.00   \n",
       "12     On tap at the brewery A: Pours a hazed, clo...  3.00   3.50   3.25   \n",
       "13     calling this a blonde ale is a stretch, or ...  3.50   3.50   3.75   \n",
       "14                                                     3.50   3.50   3.75   \n",
       "15                                                     3.00   3.00   3.00   \n",
       "16                                                     4.00   4.00   4.00   \n",
       "17     Draft pour to snifter, very dark brown with...  4.25   4.00   3.75   \n",
       "18                                                     4.00   4.00   4.00   \n",
       "19                                                     4.25   4.00   4.00   \n",
       "\n",
       "    feel  overall  score  \n",
       "0   3.50     3.25   3.25  \n",
       "1   2.75     2.75   2.75  \n",
       "2   3.00     3.00   3.00  \n",
       "3   2.75     2.75   2.83  \n",
       "4   3.75     3.75   3.71  \n",
       "5   3.25     3.25   3.25  \n",
       "6   2.75     2.75   2.75  \n",
       "7   3.50     3.50   3.59  \n",
       "8   3.50     3.25   3.39  \n",
       "9   3.75     4.00   4.02  \n",
       "10  3.25     3.25   3.24  \n",
       "11  4.00     4.00   3.93  \n",
       "12  3.25     3.50   3.35  \n",
       "13  3.75     3.50   3.63  \n",
       "14  4.00     3.75   3.70  \n",
       "15  3.00     3.00   3.00  \n",
       "16  4.00     4.00   4.00  \n",
       "17  4.25     3.75   3.89  \n",
       "18  4.00     4.00   4.00  \n",
       "19  4.00     4.00   4.02  "
      ]
     },
     "execution_count": 65,
     "metadata": {},
     "output_type": "execute_result"
    }
   ],
   "source": [
    "df_reviews_tx.head(20)"
   ]
  },
  {
   "cell_type": "code",
   "execution_count": 66,
   "id": "a7cdf274",
   "metadata": {},
   "outputs": [
    {
     "data": {
      "text/plain": [
       "                                                                                                                                                                                                                                                                                                                                                                                                                                                                                                                                                                                                                                                                                                                                                                                                                                                                                                                                                                                                                                                                                                                                                                           103381\n",
       "   0%                                                                                                                                                                                                                                                                                                                                                                                                                                                                                                                                                                                                                                                                                                                                                                                                                                                                                                                                                                                                                                                                                                                                                                        1074\n",
       "   You had this beer. Write a review.                                                                                                                                                                                                                                                                                                                                                                                                                                                                                                                                                                                                                                                                                                                                                                                                                                                                                                                                                                                                                                                                                                                                          59\n",
       "   C+ / ABOVE AVERAGE                                                                                                                                                                                                                                                                                                                                                                                                                                                                                                                                                                                                                                                                                                                                                                                                                                                                                                                                                                                                                                                                                                                                                          10\n",
       "   09/14/2016                                                                                                                                                                                                                                                                                                                                                                                                                                                                                                                                                                                                                                                                                                                                                                                                                                                                                                                                                                                                                                                                                                                                                                   6\n",
       "                                                                                                                                                                                                                                                                                                                                                                                                                                                                                                                                                                                                                                                                                                                                                                                                                                                                                                                                                                                                                                                                                                                                                                            ...  \n",
       "   Clear bodied amber beer. Looks like a lighter version than most. Plenty of white fizzy head. Looks to be well carbonated. Aromas are slight bit of malt and not much else. The whole metallic thing is present along with a slight amount of caramel malt in there. Flavor fades to not much of anything. Light bodied and not a whole lot in the mouthfeel department either.                                                                                                                                                                                                                                                                                                                                                                                                                                                                                                                                                                                                                                                                                                                                                                                               1\n",
       "   Poured from a bottle into a tumbler. I will preface this review by saying calling this a Bock is like calling BMC lights a Pils. Pours a light amber, nut brown with a small short lived head. Aroma is of light roast malt, nutty with a touch of cane sugar and molasses. Flavor is sweet roasted malt on the front. Malt is dextrose and caramel flavored. Very much broken butter in the middle. Dusty and a bit corny. The malt has some old quality to it, but it's hard to pull out. Finishes sweet and with little to no hop flavor. Mouthfeel is thin and not very exciting, crisp enough for a macro. I miss having this on tap back in the early 90's in Austin. We used to go to the Hole in the Wall and get it. Then to the Black Cat for PBR in a can and catch a show at Emo's. Sadly, this is not the beer I remember it being back then. It is thin and flavorless, a disappointment. I have been putting this review off for years, hoping that Spoetzl would return to the Shiner of yore, but alas.                                                                                                                                                     1\n",
       "   At first the head looks promising. It fades to a small ring in a matter of seconds that leaves very little to no lacing. The beer is too clear for my tastes, clear and a dull brown with a little yellow around the edges. When cold an aroma is difficult to detect. As it warms it becomes sweet as you would expect a bock to be. Sweet malts, ever so slight caramel whiff. Syrupy. Again, when cold there isn't much flavor. Some malt but not much sweetness. And again, as it warms it definitely becomes sweet and a bit malty. The bit of bitterness is provided I think, by darker malts. A twang from what I think is over-carbonation is present. I'd seen signs and bottles and packs of this all around since moving to Arkansas. I am very disappointed. The beer just doesn't have any redeeming qualities and seems to be a lacking, slightly sweet commercial lager.                                                                                                                                                                                                                                                                                      1\n",
       "   Had a friend pick me up some Shiner Bock on his trip to Texas after reading about it in a book. Wasn't as impressed with it after trying it, not horrible just not what I was expecting. Reddish brown, a little bit of head which dissipated quickly, no lacing. Was not much there in the smell department, couldn't pick up anything noticeable. Just a tiny bit of malt in the taste, no hops, nothing spectacular but, nothing off tasting. Low carbonation, a little fizzy but it is easy to drink, however with not much taste I probably would not drink too many. I am glad I did not have to buy it.                                                                                                                                                                                                                                                                                                                                                                                                                                                                                                                                                               1\n",
       "   From their website: \"Citra and Mosaic IPA, juicy with notes of citrus and tropical fruits.\" 7% ABV. 43 IBU. Costs $7.77 per sixer at grocery stores in Austin, TX. Initial impression: It's fine. Balanced enough, though more a pale ale in terms of hop pungency and depth of hop flavour. It's hard to go wrong with Citra and Mosaic, but this doesn't astound even if it succeeds...far better expressions of the style brewed with the same hops are widely available. Smooth, wet, medium-bodied, overcarbonated, slightly refreshing. It's drinkable and fairly priced, but it's tough to recommend this given how much better many IPAs brewed with Citra and Mosaic are. This doesn't really showcase those two terrific hops all that well; I'm not getting the citrus from Citra or the subtle blueberry/vague tropical fruit from Mosaic to the extent that one should. Drinkable and competent albeit underwhelming work; this seems to be riding the coattails of more talented brewer(ie)s that have tread this turf before. 4th Tap, why not try something new if you can't beat the big dogs at their own game? Strong C+ (3.15) / ABOVE AVERAGE           1\n",
       "Name: text, Length: 29288, dtype: int64"
      ]
     },
     "execution_count": 66,
     "metadata": {},
     "output_type": "execute_result"
    }
   ],
   "source": [
    "df_reviews_tx.text.value_counts()"
   ]
  },
  {
   "cell_type": "code",
   "execution_count": 67,
   "id": "b7eec358",
   "metadata": {},
   "outputs": [],
   "source": [
    "df_reviews_tx = df_reviews_tx.drop('username', axis=1)"
   ]
  },
  {
   "cell_type": "code",
   "execution_count": 68,
   "id": "4a00d7af",
   "metadata": {},
   "outputs": [],
   "source": [
    "df_reviews_tx = df_reviews_tx.drop('date', axis=1)"
   ]
  },
  {
   "cell_type": "code",
   "execution_count": 69,
   "id": "060e82ad",
   "metadata": {},
   "outputs": [],
   "source": [
    "df_reviews_tx = df_reviews_tx.drop('text', axis=1)"
   ]
  },
  {
   "cell_type": "code",
   "execution_count": 70,
   "id": "2b8dfceb",
   "metadata": {},
   "outputs": [],
   "source": [
    "df_reviews_tx = df_reviews_tx.drop('score', axis=1)"
   ]
  },
  {
   "cell_type": "code",
   "execution_count": 71,
   "id": "d020010e",
   "metadata": {},
   "outputs": [
    {
     "name": "stdout",
     "output_type": "stream",
     "text": [
      "<class 'pandas.core.frame.DataFrame'>\n",
      "RangeIndex: 133875 entries, 0 to 133874\n",
      "Data columns (total 6 columns):\n",
      " #   Column   Non-Null Count   Dtype  \n",
      "---  ------   --------------   -----  \n",
      " 0   beer_id  133875 non-null  int64  \n",
      " 1   look     75417 non-null   float64\n",
      " 2   smell    75417 non-null   float64\n",
      " 3   taste    75417 non-null   float64\n",
      " 4   feel     75417 non-null   float64\n",
      " 5   overall  75417 non-null   float64\n",
      "dtypes: float64(5), int64(1)\n",
      "memory usage: 6.1 MB\n"
     ]
    }
   ],
   "source": [
    "df_reviews_tx.info()"
   ]
  },
  {
   "cell_type": "code",
   "execution_count": 72,
   "id": "0846c0af",
   "metadata": {},
   "outputs": [
    {
     "data": {
      "text/plain": [
       "4.00    21181\n",
       "3.50    11584\n",
       "3.75    11382\n",
       "4.25     8781\n",
       "4.50     7072\n",
       "3.00     5248\n",
       "3.25     3194\n",
       "5.00     2260\n",
       "4.75     2039\n",
       "2.50     1002\n",
       "2.75      761\n",
       "2.00      518\n",
       "2.25      168\n",
       "1.00       85\n",
       "1.50       83\n",
       "1.75       43\n",
       "1.25       16\n",
       "Name: look, dtype: int64"
      ]
     },
     "execution_count": 72,
     "metadata": {},
     "output_type": "execute_result"
    }
   ],
   "source": [
    "df_reviews_tx.look.value_counts()"
   ]
  },
  {
   "cell_type": "code",
   "execution_count": 74,
   "id": "f28c599f",
   "metadata": {},
   "outputs": [
    {
     "name": "stdout",
     "output_type": "stream",
     "text": [
      "<class 'pandas.core.frame.DataFrame'>\n",
      "RangeIndex: 75417 entries, 0 to 75416\n",
      "Data columns (total 6 columns):\n",
      " #   Column   Non-Null Count  Dtype  \n",
      "---  ------   --------------  -----  \n",
      " 0   beer_id  75417 non-null  int64  \n",
      " 1   look     75417 non-null  float64\n",
      " 2   smell    75417 non-null  float64\n",
      " 3   taste    75417 non-null  float64\n",
      " 4   feel     75417 non-null  float64\n",
      " 5   overall  75417 non-null  float64\n",
      "dtypes: float64(5), int64(1)\n",
      "memory usage: 3.5 MB\n"
     ]
    }
   ],
   "source": [
    "df_reviews_tx = df_reviews_tx.loc[df_reviews_tx[\"overall\"] >= 0].reset_index(drop=True)\n",
    "df_reviews_tx.info()"
   ]
  },
  {
   "cell_type": "code",
   "execution_count": 75,
   "id": "297e517e",
   "metadata": {},
   "outputs": [
    {
     "data": {
      "text/plain": [
       "1352      1873\n",
       "92960     1479\n",
       "1062      1038\n",
       "94634      766\n",
       "45591      747\n",
       "          ... \n",
       "100739       1\n",
       "91555        1\n",
       "79124        1\n",
       "58785        1\n",
       "129290       1\n",
       "Name: beer_id, Length: 2498, dtype: int64"
      ]
     },
     "execution_count": 75,
     "metadata": {},
     "output_type": "execute_result"
    }
   ],
   "source": [
    "df_reviews_tx.beer_id.value_counts()"
   ]
  },
  {
   "cell_type": "code",
   "execution_count": 79,
   "id": "52974cc0",
   "metadata": {},
   "outputs": [],
   "source": [
    "df_breweries_clean.to_csv('Resources/Clean/texas_breweries.csv', index=False)\n",
    "df_beers_tx2.to_csv('Resources/Clean/texas_beers.csv', index=False)\n",
    "df_reviews_tx.to_csv('Resources/Clean/texas_reviews.csv', index=False)"
   ]
  },
  {
   "cell_type": "code",
   "execution_count": null,
   "id": "ceb61369",
   "metadata": {},
   "outputs": [],
   "source": []
  }
 ],
 "metadata": {
  "kernelspec": {
   "display_name": "Python 3 (ipykernel)",
   "language": "python",
   "name": "python3"
  },
  "language_info": {
   "codemirror_mode": {
    "name": "ipython",
    "version": 3
   },
   "file_extension": ".py",
   "mimetype": "text/x-python",
   "name": "python",
   "nbconvert_exporter": "python",
   "pygments_lexer": "ipython3",
   "version": "3.9.12"
  }
 },
 "nbformat": 4,
 "nbformat_minor": 5
}
